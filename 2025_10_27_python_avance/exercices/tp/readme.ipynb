{
 "cells": [
  {
   "cell_type": "markdown",
   "id": "7ab3f887-4d85-4afd-8d71-a93c1c810feb",
   "metadata": {},
   "source": [
    "# TP Python : Gestion d'une bibliothèque\n",
    "\n",
    "Application console en Python qui simule la gestion d'une bilbiothèque."
   ]
  },
  {
   "cell_type": "markdown",
   "id": "4e33cdf6-ec60-44fb-bae1-757f5f873b03",
   "metadata": {},
   "source": [
    "## Cloner le repository\n",
    "\n",
    "Pour cloner le repository, éxécuter la commande bash\n",
    "```bash\n",
    "git clone https://github.com/DamienDESSAUX-M2i/M2i_CDSD_TDTP/tree/main/2025_10_27_python_avance/exercices/tp\n",
    "```"
   ]
  },
  {
   "cell_type": "markdown",
   "id": "78eff6a0-00d4-4a55-9e35-0c5fdfc3f1f0",
   "metadata": {},
   "source": [
    "## Comment lancer l'application\n",
    "\n",
    "Pour lancer l'application, placez vous dans le dossier tp nouvellement créé et éxécuter la commande bash :\n",
    "```bash\n",
    "python main.py\n",
    "```"
   ]
  },
  {
   "cell_type": "markdown",
   "id": "f3eca40d-1009-47ae-a9d6-ab4c48bc3144",
   "metadata": {},
   "source": [
    "## Architecture\n",
    "\n",
    "Le dossier `menu` est un package permettant la création de menu console.\n",
    "Pour créer un menu console, importez la classe Menu et créez une classe héritant de Menu.\n",
    "```python\n",
    "from menu.menu import Menu\n",
    "\n",
    "\n",
    "class MyMenu(Menu):\n",
    "    def __init__(self)\n",
    "        self.menu_name = \"Nom du menu\"\n",
    "```"
   ]
  }
 ],
 "metadata": {
  "kernelspec": {
   "display_name": "Python 3 (ipykernel)",
   "language": "python",
   "name": "python3"
  },
  "language_info": {
   "codemirror_mode": {
    "name": "ipython",
    "version": 3
   },
   "file_extension": ".py",
   "mimetype": "text/x-python",
   "name": "python",
   "nbconvert_exporter": "python",
   "pygments_lexer": "ipython3",
   "version": "3.14.0"
  }
 },
 "nbformat": 4,
 "nbformat_minor": 5
}
