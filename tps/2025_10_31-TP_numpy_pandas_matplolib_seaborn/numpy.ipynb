{
 "cells": [
  {
   "cell_type": "markdown",
   "metadata": {
    "id": "4BNv2kEhq0Jn"
   },
   "source": [
    "## Numpy"
   ]
  },
  {
   "cell_type": "code",
   "execution_count": 1,
   "metadata": {
    "executionInfo": {
     "elapsed": 25,
     "status": "ok",
     "timestamp": 1759416016899,
     "user": {
      "displayName": "Damien Dessaux",
      "userId": "07698093102948239354"
     },
     "user_tz": -120
    },
    "id": "iMw_QoPlUs04"
   },
   "outputs": [],
   "source": [
    "import numpy as np"
   ]
  },
  {
   "cell_type": "markdown",
   "metadata": {
    "id": "qIkjIH4V1IiN"
   },
   "source": [
    "## Array"
   ]
  },
  {
   "cell_type": "code",
   "execution_count": 2,
   "metadata": {
    "colab": {
     "base_uri": "https://localhost:8080/"
    },
    "executionInfo": {
     "elapsed": 19,
     "status": "ok",
     "timestamp": 1759416016922,
     "user": {
      "displayName": "Damien Dessaux",
      "userId": "07698093102948239354"
     },
     "user_tz": -120
    },
    "id": "UbuBnXK8V4Mk",
    "outputId": "69e1cb48-68cd-4f0c-a73f-4ea9864e52e2"
   },
   "outputs": [
    {
     "name": "stdout",
     "output_type": "stream",
     "text": [
      "revenus_array = array([1800, 1500, 2200, 3000, 2172])\n"
     ]
    }
   ],
   "source": [
    "revenus = [1800, 1500, 2200, 3000, 2172]\n",
    "revenus_array = np.array(revenus)\n",
    "print(f\"{revenus_array = }\")"
   ]
  },
  {
   "cell_type": "code",
   "execution_count": 3,
   "metadata": {
    "colab": {
     "base_uri": "https://localhost:8080/"
    },
    "executionInfo": {
     "elapsed": 9,
     "status": "ok",
     "timestamp": 1759416016936,
     "user": {
      "displayName": "Damien Dessaux",
      "userId": "07698093102948239354"
     },
     "user_tz": -120
    },
    "id": "7M5ut6qzWTiZ",
    "outputId": "97b030a1-05ac-4f53-de04-1192933c0509"
   },
   "outputs": [
    {
     "name": "stdout",
     "output_type": "stream",
     "text": [
      "np.zeros(5) = array([0., 0., 0., 0., 0.])\n",
      "np.ones(5) = array([1., 1., 1., 1., 1.])\n",
      "np.arange(1, 7, 2) = array([1, 3, 5])\n",
      "np.linspace(1, 2, 5) = array([1.  , 1.25, 1.5 , 1.75, 2.  ])\n"
     ]
    }
   ],
   "source": [
    "print(f\"{np.zeros(5) = }\")\n",
    "print(f\"{np.ones(5) = }\")\n",
    "print(f\"{np.arange(1, 7, 2) = }\")\n",
    "print(f\"{np.linspace(1, 2, 5) = }\")"
   ]
  },
  {
   "cell_type": "code",
   "execution_count": 4,
   "metadata": {
    "colab": {
     "base_uri": "https://localhost:8080/"
    },
    "executionInfo": {
     "elapsed": 22,
     "status": "ok",
     "timestamp": 1759416016960,
     "user": {
      "displayName": "Damien Dessaux",
      "userId": "07698093102948239354"
     },
     "user_tz": -120
    },
    "id": "qwuh2gA_XIiC",
    "outputId": "f15da62b-7bdf-467c-f037-4b4e54cc7966"
   },
   "outputs": [
    {
     "name": "stdout",
     "output_type": "stream",
     "text": [
      "revenus_array.dtype = dtype('int64')\n",
      "revenus_array.shape = (5,)\n"
     ]
    }
   ],
   "source": [
    "print(f\"{revenus_array.dtype = }\") # array type\n",
    "print(f\"{revenus_array.shape = }\") # array shape"
   ]
  },
  {
   "cell_type": "code",
   "execution_count": 5,
   "metadata": {
    "colab": {
     "base_uri": "https://localhost:8080/"
    },
    "executionInfo": {
     "elapsed": 9,
     "status": "ok",
     "timestamp": 1759416016972,
     "user": {
      "displayName": "Damien Dessaux",
      "userId": "07698093102948239354"
     },
     "user_tz": -120
    },
    "id": "eR87YWUHXcKh",
    "outputId": "15e3c04d-d5b0-4270-b059-c89c1114ca71"
   },
   "outputs": [
    {
     "name": "stdout",
     "output_type": "stream",
     "text": [
      "revenus_array[1] = np.int64(1900)\n",
      "revenus_array[-1] = np.int64(2172)\n",
      "revenus_array[0:5:2] = array([1800, 2200, 2172])\n",
      "revenus_array[:3] = array([1800, 1900, 2200])\n",
      "revenus_array[2:] = array([2200, 2800, 2172])\n",
      "revenus_array[::2] = array([1800, 2200, 2172])\n",
      "revenus_array[::-1] = array([2172, 2800, 2200, 1900, 1800])\n",
      "revenus_array[revenus_array > 2000] = array([2200, 2800, 2172])\n",
      "revenus_array[(revenus_array > 2000) & (revenus_array < 3000)] = array([2200, 2800, 2172])\n"
     ]
    }
   ],
   "source": [
    "revenus_array[1] = 1900 # affecte la valeur 1900 à l'élément d'indice 1\n",
    "revenus_array[revenus_array > 2500] = 2800 # afecte la valeur 2800 à l'ensemble des éléments vérifiant la condition revenus_array > 2500\n",
    "print(f\"{revenus_array[1] = }\") # sélectionne l'élément d'indice 1\n",
    "print(f\"{revenus_array[-1] = }\") # sélectionne le dernier élément\n",
    "print(f\"{revenus_array[0:5:2] = }\") # array[i:j:p] -> sélection des éléments d'indices i à j-1 avec un pas de p\n",
    "print(f\"{revenus_array[:3] = }\") # sélectionne les 3 premiers éléments\n",
    "print(f\"{revenus_array[2:] = }\") # sélectionne tous les éléments à  partir de l'indice 2\n",
    "print(f\"{revenus_array[::2] = }\") # sélectionne un élément sur 2\n",
    "print(f\"{revenus_array[::-1] = }\") # reverse array\n",
    "print(f\"{revenus_array[revenus_array > 2000] = }\") # sélectionne les éléments vérifiant la condition revenus_array > 2000\n",
    "print(f\"{revenus_array[(revenus_array > 2000) & (revenus_array < 3000)] = }\") # et -> & ou -> |"
   ]
  },
  {
   "cell_type": "code",
   "execution_count": 6,
   "metadata": {
    "colab": {
     "base_uri": "https://localhost:8080/"
    },
    "executionInfo": {
     "elapsed": 11,
     "status": "ok",
     "timestamp": 1759416016999,
     "user": {
      "displayName": "Damien Dessaux",
      "userId": "07698093102948239354"
     },
     "user_tz": -120
    },
    "id": "xVD0J4mUwOXd",
    "outputId": "09bb8bb6-caf0-4e9f-fcc1-f636d6c14f8a"
   },
   "outputs": [
    {
     "name": "stdout",
     "output_type": "stream",
     "text": [
      "revenus_array.min() = np.int64(1800)\n",
      "revenus_array.max() = np.int64(2800)\n",
      "revenus_array.argmin() = np.int64(0)\n",
      "revenus_array.argmax() = np.int64(3)\n",
      "revenus_array.mean() = np.float64(2174.4)\n",
      "revenus_array.sum() = np.int64(10872)\n",
      "revenus_array = array([1800, 1900, 2172, 2200, 2800])\n"
     ]
    }
   ],
   "source": [
    "print(f\"{revenus_array.min() = }\")\n",
    "print(f\"{revenus_array.max() = }\")\n",
    "print(f\"{revenus_array.argmin() = }\") # indice de l'élément le plus petit\n",
    "print(f\"{revenus_array.argmax() = }\") # indice de l'élément le plus grand\n",
    "print(f\"{revenus_array.mean() = }\")\n",
    "print(f\"{revenus_array.sum() = }\")\n",
    "revenus_array.sort()\n",
    "print(f\"{revenus_array = }\")"
   ]
  },
  {
   "cell_type": "code",
   "execution_count": 7,
   "metadata": {
    "colab": {
     "base_uri": "https://localhost:8080/"
    },
    "executionInfo": {
     "elapsed": 20,
     "status": "ok",
     "timestamp": 1759416017021,
     "user": {
      "displayName": "Damien Dessaux",
      "userId": "07698093102948239354"
     },
     "user_tz": -120
    },
    "id": "rUHinlY4ySdN",
    "outputId": "233b5302-27cb-4c69-8f75-ed0ba4701a86"
   },
   "outputs": [
    {
     "name": "stdout",
     "output_type": "stream",
     "text": [
      "revenus_12 = array([21600, 22800, 26064, 26400, 33600])\n",
      "revenus_12_K = array([22, 23, 26, 26, 34])\n"
     ]
    }
   ],
   "source": [
    "revenus_12 = revenus_array * 12\n",
    "print(f\"{revenus_12 = }\")\n",
    "revenus_12_K = revenus_12 / 1_000\n",
    "revenus_12_K = (np.rint(revenus_12_K)).astype(int) # float to int\n",
    "print(f\"{revenus_12_K = }\")"
   ]
  },
  {
   "cell_type": "markdown",
   "metadata": {
    "id": "vQmTWjXX1C-y"
   },
   "source": [
    "## Tableau"
   ]
  },
  {
   "cell_type": "code",
   "execution_count": 8,
   "metadata": {
    "colab": {
     "base_uri": "https://localhost:8080/"
    },
    "executionInfo": {
     "elapsed": 10,
     "status": "ok",
     "timestamp": 1759416017033,
     "user": {
      "displayName": "Damien Dessaux",
      "userId": "07698093102948239354"
     },
     "user_tz": -120
    },
    "id": "UzM3XrJB0-7L",
    "outputId": "117f79a1-adf5-4902-fa5e-9f9120d63d63"
   },
   "outputs": [
    {
     "name": "stdout",
     "output_type": "stream",
     "text": [
      "tableau = array([[  21, 1400,    0],\n",
      "       [  54, 2800,    2],\n",
      "       [  27, 3700,    3]])\n",
      "tableau.shape = (3, 3)\n"
     ]
    }
   ],
   "source": [
    "hugo = [21, 1400, 0]\n",
    "richard = [54, 2800, 2]\n",
    "emilie = [27, 3700, 3]\n",
    "tableau = np.array([hugo, richard, emilie])\n",
    "print(f\"{tableau = }\")\n",
    "print(f\"{tableau.shape = }\")"
   ]
  },
  {
   "cell_type": "code",
   "execution_count": 9,
   "metadata": {
    "colab": {
     "base_uri": "https://localhost:8080/"
    },
    "executionInfo": {
     "elapsed": 21,
     "status": "ok",
     "timestamp": 1759416017057,
     "user": {
      "displayName": "Damien Dessaux",
      "userId": "07698093102948239354"
     },
     "user_tz": -120
    },
    "id": "tRfjx3uE4cky",
    "outputId": "65be9a5f-1463-4efd-8bcf-5a24ebbbf5c4"
   },
   "outputs": [
    {
     "name": "stdout",
     "output_type": "stream",
     "text": [
      "tableau[0,0] = np.int64(21)\n",
      "tableau[0,:] = array([  21, 1400,    0])\n",
      "tableau[:,2] = array([0, 2, 3])\n",
      "tableau[tableau[:,1] > 2000] = array([[  54, 2800,    2],\n",
      "       [  27, 3700,    3]])\n"
     ]
    }
   ],
   "source": [
    "print(f\"{tableau[0,0] = }\")\n",
    "print(f\"{tableau[0,:] = }\") # sélectionne la ligne d'indice 0\n",
    "print(f\"{tableau[:,2] = }\") # sélectionne la colonne d'indice 2\n",
    "print(f\"{tableau[tableau[:,1] > 2000] = }\") # sélectionne toutes les lignes du tableau ayant une valeur de colonne 1 supérieure à 2000"
   ]
  },
  {
   "cell_type": "code",
   "execution_count": 10,
   "metadata": {
    "colab": {
     "base_uri": "https://localhost:8080/"
    },
    "executionInfo": {
     "elapsed": 7,
     "status": "ok",
     "timestamp": 1759416017069,
     "user": {
      "displayName": "Damien Dessaux",
      "userId": "07698093102948239354"
     },
     "user_tz": -120
    },
    "id": "be1vbS3b5tQ7",
    "outputId": "c5c4e669-7a71-4e84-c5a9-19a4eada3a8e"
   },
   "outputs": [
    {
     "name": "stdout",
     "output_type": "stream",
     "text": [
      "tableau = array([[  21, 1400,    0],\n",
      "       [  54, 2800,    2],\n",
      "       [  27, 3700,    3]])\n"
     ]
    }
   ],
   "source": [
    "fred = [32, 1750, 4]\n",
    "np.vstack((tableau, fred)) # ajoute fred au tableau /!\\ np.vstack prend un tuple en paramètre !\n",
    "print(f\"{tableau = }\")"
   ]
  },
  {
   "cell_type": "code",
   "execution_count": 11,
   "metadata": {
    "colab": {
     "base_uri": "https://localhost:8080/"
    },
    "executionInfo": {
     "elapsed": 8,
     "status": "ok",
     "timestamp": 1759416017080,
     "user": {
      "displayName": "Damien Dessaux",
      "userId": "07698093102948239354"
     },
     "user_tz": -120
    },
    "id": "PnYZp26E2kFz",
    "outputId": "f4675954-280b-4717-9809-794e57126e84"
   },
   "outputs": [
    {
     "name": "stdout",
     "output_type": "stream",
     "text": [
      "np.ones((3, 5)) = array([[1., 1., 1., 1., 1.],\n",
      "       [1., 1., 1., 1., 1.],\n",
      "       [1., 1., 1., 1., 1.]])\n",
      "np.zeros((4, 4)) = array([[0., 0., 0., 0.],\n",
      "       [0., 0., 0., 0.],\n",
      "       [0., 0., 0., 0.],\n",
      "       [0., 0., 0., 0.]])\n",
      "np.random.random((6, 3)) = array([[0.36591653, 0.48049319, 0.25886006],\n",
      "       [0.12077729, 0.2624837 , 0.52382054],\n",
      "       [0.93466115, 0.44134907, 0.56620332],\n",
      "       [0.33870006, 0.10480601, 0.03644139],\n",
      "       [0.53759157, 0.80212039, 0.51193175],\n",
      "       [0.41022558, 0.86604786, 0.53967246]])\n",
      "np.random.randint(1, 10, size=(3, 3)) = array([[8, 7, 2],\n",
      "       [5, 9, 7],\n",
      "       [1, 3, 8]], dtype=int32)\n"
     ]
    }
   ],
   "source": [
    "print(f\"{np.ones((3, 5)) = }\") # un tableau de 3x5 rempli de 1\n",
    "print(f\"{np.zeros((4, 4)) = }\") # un tableau de 4 lignes et de 4 colonnes contenant que des 0\n",
    "print(f\"{np.random.random((6, 3)) = }\") # un tableau de 6x3 rempli de valeurs aléatoires comprises entre 0 et 1\n",
    "print(f\"{np.random.randint(1, 10, size=(3, 3)) = }\") # un tableau de 3x3 rempli de valeurs aléatoires entières, comprises entre 1 et 10"
   ]
  },
  {
   "cell_type": "code",
   "execution_count": 12,
   "metadata": {
    "colab": {
     "base_uri": "https://localhost:8080/"
    },
    "executionInfo": {
     "elapsed": 31,
     "status": "ok",
     "timestamp": 1759416017113,
     "user": {
      "displayName": "Damien Dessaux",
      "userId": "07698093102948239354"
     },
     "user_tz": -120
    },
    "id": "yYG38-M03fJm",
    "outputId": "bf69c578-0dc7-43f2-8034-c8bc02a63170"
   },
   "outputs": [
    {
     "name": "stdout",
     "output_type": "stream",
     "text": [
      "A + B = array([[ 6, 12],\n",
      "       [18, 24]])\n",
      "A * B = array([[ 5, 20],\n",
      "       [45, 80]])\n",
      "A @ B = array([[ 35,  50],\n",
      "       [ 75, 110]])\n"
     ]
    }
   ],
   "source": [
    "A = np.array([[1, 2], [3, 4]])\n",
    "B = np.array([[5, 10], [15, 20]])\n",
    "print(f\"{A + B = }\") # Somme matricielle\n",
    "print(f\"{A * B = }\") # Produit terme à terme\n",
    "print(f\"{A @ B = }\") # Produit matricielle /!\\ python --version >= 3.5 sinon AC = np.dot(A, B)"
   ]
  }
 ],
 "metadata": {
  "colab": {
   "authorship_tag": "ABX9TyPGyCQ81hshpGZzV7piltB3",
   "provenance": []
  },
  "kernelspec": {
   "display_name": "Python 3 (ipykernel)",
   "language": "python",
   "name": "python3"
  },
  "language_info": {
   "codemirror_mode": {
    "name": "ipython",
    "version": 3
   },
   "file_extension": ".py",
   "mimetype": "text/x-python",
   "name": "python",
   "nbconvert_exporter": "python",
   "pygments_lexer": "ipython3",
   "version": "3.13.7"
  }
 },
 "nbformat": 4,
 "nbformat_minor": 4
}
