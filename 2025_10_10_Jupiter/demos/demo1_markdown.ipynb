{
 "cells": [
  {
   "cell_type": "markdown",
   "id": "24142f49-0aa2-42f5-8828-6f9cfba1d282",
   "metadata": {},
   "source": [
    "# Tutoriel Markdown pour Jupyter\n",
    "\n",
    "Ce notebook montre comment utiliser du **Markdown** dans JupyterLad.\n",
    "\n",
    "Une cellule peut être en mode **Code** (éxécuter du Python) ou en **Markdown** pour du formatage de text."
   ]
  },
  {
   "cell_type": "markdown",
   "id": "2216048b-1a06-4dbc-850b-2dffcea6423a",
   "metadata": {},
   "source": [
    "## Titre\n",
    "\n",
    "Nous pouvons écrire des titre avec le caractère `#`\n",
    "```\n",
    "# Titre niveau 1\n",
    "## Titre niveau 2\n",
    "### Titre niveau 3\n",
    "```\n",
    "# Titre niveau 1\n",
    "## Titre niveau 2\n",
    "### Titre niveau 3"
   ]
  },
  {
   "cell_type": "markdown",
   "id": "372dd65d-9593-47c9-a51e-b6c1cad969b4",
   "metadata": {},
   "source": [
    "## Interprétation HTML\n",
    "\n",
    "Nous pouvons utiliser des balises HTML pour le formatge de notre text.\n",
    "```\n",
    "<b>Gras</b>\n",
    "<i>Italique</i>\n",
    "<h1>Titre</h1>\n",
    "<h2>Section</h2>\n",
    "```\n",
    "- <b>Gras</b>\n",
    "- <i>Italique</i>\n",
    "- <h1>Titre</h1>\n",
    "- <h2>Section</h2>"
   ]
  },
  {
   "cell_type": "markdown",
   "id": "c6d0ad7e-89c3-4ec8-9beb-d77cd1875e6c",
   "metadata": {},
   "source": [
    "## Mise en forme\n",
    "\n",
    "- Italique : `*text*` -> *text*\n",
    "- Gras : `**text**` -> **text**\n",
    "- Barré : `~~text~~` -> ~~text~~\n",
    "- Code : \\`text\\` -> `text`"
   ]
  },
  {
   "cell_type": "markdown",
   "id": "a7fd3b04-688a-49d1-9685-607274ac7211",
   "metadata": {},
   "source": [
    "## Listes\n",
    "\n",
    "```\n",
    "- Item\n",
    "    - Item\n",
    "```\n",
    "- Item\n",
    "    - Item\n",
    "```\n",
    "1. item\n",
    "    1. item\n",
    "```\n",
    "1. item\n",
    "    1. item"
   ]
  },
  {
   "cell_type": "markdown",
   "id": "27fe2b8e-e8a5-4615-9b80-40e0d3c1423a",
   "metadata": {},
   "source": [
    "## Tableau\n",
    "\n",
    "- `|` séparateur vertical\n",
    "- `-` séparateur horizontal\n",
    "- `:-`, `:-:`, `-:` aligné à gauche, centré, aligné à droit\n",
    "```\n",
    "Nom | Prenom | Age\n",
    ":-|:-:|-:\n",
    "titi | toto | 5\n",
    "```\n",
    "Nom | Prenom | Age\n",
    ":-|:-:|-:\n",
    "titi | toto | 5"
   ]
  },
  {
   "cell_type": "markdown",
   "id": "9f738af4-0c21-4e6b-8a8b-cd952d87e0aa",
   "metadata": {},
   "source": [
    "## Code\n",
    "\n",
    "Pour afficher un bloc de code, on utilise \\`\\`\\`\n",
    "```Python\n",
    "def hello_world():\n",
    "    print(\"Hello World !)\n",
    "```"
   ]
  },
  {
   "cell_type": "markdown",
   "id": "74f36874-90ea-4ca6-9401-cb16a88dbc00",
   "metadata": {},
   "source": [
    "## LaTeX\n",
    "\n",
    "Pour afficher un bloc LaTeX on utilise le symbole `$`.\n",
    "```\n",
    "$x_{n+1}=x_n - \\frac{f(x_n)}{f'(x_n)}$\n",
    "$$x_{n+1}=x_n - \\frac{f(x_n)}{f'(x_n)}$$\n",
    "```\n",
    "$x_{n+1}=x_n - \\frac{f(x_n)}{f'(x_n)}$\n",
    "$$x_{n+1}=x_n - \\alpha_n\\nabla f(x_n)$$"
   ]
  },
  {
   "cell_type": "code",
   "execution_count": null,
   "id": "59d6dc21-3220-4bb1-930a-5dd2ac021605",
   "metadata": {},
   "outputs": [],
   "source": []
  }
 ],
 "metadata": {
  "kernelspec": {
   "display_name": "Python 3 (ipykernel)",
   "language": "python",
   "name": "python3"
  },
  "language_info": {
   "codemirror_mode": {
    "name": "ipython",
    "version": 3
   },
   "file_extension": ".py",
   "mimetype": "text/x-python",
   "name": "python",
   "nbconvert_exporter": "python",
   "pygments_lexer": "ipython3",
   "version": "3.14.0"
  }
 },
 "nbformat": 4,
 "nbformat_minor": 5
}
