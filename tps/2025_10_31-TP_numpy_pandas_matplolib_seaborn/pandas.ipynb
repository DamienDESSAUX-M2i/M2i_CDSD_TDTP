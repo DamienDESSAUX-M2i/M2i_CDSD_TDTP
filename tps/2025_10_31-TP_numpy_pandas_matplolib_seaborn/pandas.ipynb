{
 "cells": [
  {
   "cell_type": "markdown",
   "metadata": {
    "id": "VRsRXtmYAOxB"
   },
   "source": [
    "## Pandas"
   ]
  },
  {
   "cell_type": "code",
   "execution_count": 1,
   "metadata": {
    "executionInfo": {
     "elapsed": 32,
     "status": "ok",
     "timestamp": 1759495089250,
     "user": {
      "displayName": "Damien Dessaux",
      "userId": "07698093102948239354"
     },
     "user_tz": -120
    },
    "id": "vpSOEE_S9sXM"
   },
   "outputs": [],
   "source": [
    "import numpy as np\n",
    "import pandas as pd"
   ]
  },
  {
   "cell_type": "markdown",
   "metadata": {
    "id": "AA4hVDbbSvMu"
   },
   "source": [
    "## Importer un dataframe"
   ]
  },
  {
   "cell_type": "code",
   "execution_count": 2,
   "metadata": {
    "colab": {
     "base_uri": "https://localhost:8080/",
     "height": 395
    },
    "executionInfo": {
     "elapsed": 25,
     "status": "ok",
     "timestamp": 1759495089268,
     "user": {
      "displayName": "Damien Dessaux",
      "userId": "07698093102948239354"
     },
     "user_tz": -120
    },
    "id": "Rp_-lexnAQ_r",
    "outputId": "431fa7fe-0c54-4cbe-e6f1-f96424a2db0c"
   },
   "outputs": [
    {
     "data": {
      "text/html": [
       "<div>\n",
       "<style scoped>\n",
       "    .dataframe tbody tr th:only-of-type {\n",
       "        vertical-align: middle;\n",
       "    }\n",
       "\n",
       "    .dataframe tbody tr th {\n",
       "        vertical-align: top;\n",
       "    }\n",
       "\n",
       "    .dataframe thead th {\n",
       "        text-align: right;\n",
       "    }\n",
       "</style>\n",
       "<table border=\"1\" class=\"dataframe\">\n",
       "  <thead>\n",
       "    <tr style=\"text-align: right;\">\n",
       "      <th></th>\n",
       "      <th>identifiant</th>\n",
       "      <th>email</th>\n",
       "      <th>nom</th>\n",
       "      <th>genre</th>\n",
       "    </tr>\n",
       "  </thead>\n",
       "  <tbody>\n",
       "    <tr>\n",
       "      <th>0</th>\n",
       "      <td>0</td>\n",
       "      <td>LaurentDagenais@rhyta.com</td>\n",
       "      <td>Laurent Dagenais</td>\n",
       "      <td>M</td>\n",
       "    </tr>\n",
       "    <tr>\n",
       "      <th>1</th>\n",
       "      <td>1</td>\n",
       "      <td>GuyMarois@fleckens.hu</td>\n",
       "      <td>Guy Marois</td>\n",
       "      <td>M</td>\n",
       "    </tr>\n",
       "    <tr>\n",
       "      <th>2</th>\n",
       "      <td>2</td>\n",
       "      <td>BeaufortLesage@einrot.com</td>\n",
       "      <td>Beaufort Lesage</td>\n",
       "      <td>M</td>\n",
       "    </tr>\n",
       "    <tr>\n",
       "      <th>3</th>\n",
       "      <td>3</td>\n",
       "      <td>RussellDurand@armyspy.com</td>\n",
       "      <td>Russell Durand</td>\n",
       "      <td>M</td>\n",
       "    </tr>\n",
       "    <tr>\n",
       "      <th>4</th>\n",
       "      <td>4</td>\n",
       "      <td>AlexisRiel@rhyta.com</td>\n",
       "      <td>Alexis Riel</td>\n",
       "      <td>M</td>\n",
       "    </tr>\n",
       "  </tbody>\n",
       "</table>\n",
       "</div>"
      ],
      "text/plain": [
       "   identifiant                      email               nom genre\n",
       "0            0  LaurentDagenais@rhyta.com  Laurent Dagenais     M\n",
       "1            1      GuyMarois@fleckens.hu        Guy Marois     M\n",
       "2            2  BeaufortLesage@einrot.com   Beaufort Lesage     M\n",
       "3            3  RussellDurand@armyspy.com    Russell Durand     M\n",
       "4            4       AlexisRiel@rhyta.com       Alexis Riel     M"
      ]
     },
     "metadata": {},
     "output_type": "display_data"
    },
    {
     "data": {
      "text/html": [
       "<div>\n",
       "<style scoped>\n",
       "    .dataframe tbody tr th:only-of-type {\n",
       "        vertical-align: middle;\n",
       "    }\n",
       "\n",
       "    .dataframe tbody tr th {\n",
       "        vertical-align: top;\n",
       "    }\n",
       "\n",
       "    .dataframe thead th {\n",
       "        text-align: right;\n",
       "    }\n",
       "</style>\n",
       "<table border=\"1\" class=\"dataframe\">\n",
       "  <thead>\n",
       "    <tr style=\"text-align: right;\">\n",
       "      <th></th>\n",
       "      <th>identifiant</th>\n",
       "      <th>email</th>\n",
       "      <th>nom</th>\n",
       "      <th>genre</th>\n",
       "    </tr>\n",
       "  </thead>\n",
       "  <tbody>\n",
       "    <tr>\n",
       "      <th>223</th>\n",
       "      <td>223</td>\n",
       "      <td>ClaudeDandonneau@jourrapide.com</td>\n",
       "      <td>Claude Dandonneau</td>\n",
       "      <td>F</td>\n",
       "    </tr>\n",
       "    <tr>\n",
       "      <th>224</th>\n",
       "      <td>224</td>\n",
       "      <td>ApollineMichaud@superrito.com</td>\n",
       "      <td>Apolline Michaud</td>\n",
       "      <td>F</td>\n",
       "    </tr>\n",
       "    <tr>\n",
       "      <th>225</th>\n",
       "      <td>225</td>\n",
       "      <td>PascalineBeaudry@rhyta.com</td>\n",
       "      <td>Pascaline Beaudry</td>\n",
       "      <td>F</td>\n",
       "    </tr>\n",
       "    <tr>\n",
       "      <th>226</th>\n",
       "      <td>226</td>\n",
       "      <td>FleurCaouette@jourrapide.com</td>\n",
       "      <td>Fleur Caouette</td>\n",
       "      <td>F</td>\n",
       "    </tr>\n",
       "    <tr>\n",
       "      <th>227</th>\n",
       "      <td>227</td>\n",
       "      <td>FrancisMasse@jourrapide.com</td>\n",
       "      <td>Francis Masse</td>\n",
       "      <td>M</td>\n",
       "    </tr>\n",
       "  </tbody>\n",
       "</table>\n",
       "</div>"
      ],
      "text/plain": [
       "     identifiant                            email                nom genre\n",
       "223          223  ClaudeDandonneau@jourrapide.com  Claude Dandonneau     F\n",
       "224          224    ApollineMichaud@superrito.com   Apolline Michaud     F\n",
       "225          225       PascalineBeaudry@rhyta.com  Pascaline Beaudry     F\n",
       "226          226     FleurCaouette@jourrapide.com     Fleur Caouette     F\n",
       "227          227      FrancisMasse@jourrapide.com      Francis Masse     M"
      ]
     },
     "metadata": {},
     "output_type": "display_data"
    }
   ],
   "source": [
    "data = pd.read_csv('clients.csv')\n",
    "# data = pd.read_json('clients.json')\n",
    "# data = pd.read_excel('clients.xlsx')\n",
    "display(data.head()) # Affiche les 5 premières lignes du fichier, on peut donner un nombre de ligne à afficher en argument\n",
    "display(data.tail()) # 5 dernière lignes, on peut donner un nombre de ligne à afficher en argument"
   ]
  },
  {
   "cell_type": "code",
   "execution_count": 3,
   "metadata": {
    "colab": {
     "base_uri": "https://localhost:8080/"
    },
    "executionInfo": {
     "elapsed": 22,
     "status": "ok",
     "timestamp": 1759495089322,
     "user": {
      "displayName": "Damien Dessaux",
      "userId": "07698093102948239354"
     },
     "user_tz": -120
    },
    "id": "-JuyoG-WDFt8",
    "outputId": "4c22719c-ee46-4d4a-c1e8-e6adc7531592"
   },
   "outputs": [
    {
     "name": "stdout",
     "output_type": "stream",
     "text": [
      "data.shape = (228, 4)\n",
      "data.dtypes :\n",
      "identifiant     int64\n",
      "email          object\n",
      "nom            object\n",
      "genre          object\n",
      "dtype: object\n"
     ]
    }
   ],
   "source": [
    "print(f\"{data.shape = }\")\n",
    "print(f\"data.dtypes :\\n{data.dtypes}\") # rmq : le type object de pandas correspond au type str de python"
   ]
  },
  {
   "cell_type": "code",
   "execution_count": 4,
   "metadata": {
    "colab": {
     "base_uri": "https://localhost:8080/",
     "height": 1000
    },
    "executionInfo": {
     "elapsed": 31,
     "status": "ok",
     "timestamp": 1759495089359,
     "user": {
      "displayName": "Damien Dessaux",
      "userId": "07698093102948239354"
     },
     "user_tz": -120
    },
    "id": "OhZnryGKFX1y",
    "outputId": "0bcc9749-c858-4788-94f5-7947b3c88968"
   },
   "outputs": [
    {
     "data": {
      "text/plain": [
       "array([[0, 'LaurentDagenais@rhyta.com', 'Laurent Dagenais', 'M'],\n",
       "       [1, 'GuyMarois@fleckens.hu', 'Guy Marois', 'M'],\n",
       "       [2, 'BeaufortLesage@einrot.com', 'Beaufort Lesage', 'M'],\n",
       "       [3, 'RussellDurand@armyspy.com', 'Russell Durand', 'M'],\n",
       "       [4, 'AlexisRiel@rhyta.com', 'Alexis Riel', 'M'],\n",
       "       [5, 'LeonLapresse@cuvox.de', 'Leon Lapresse', 'M'],\n",
       "       [6, 'OrvilleRouthier@gustr.com', 'Orville Routhier', 'M'],\n",
       "       [7, 'AgramantPepin@dayrep.com', 'Agramant Pepin', 'M'],\n",
       "       [8, 'AiglentinaLambert@fleckens.hu', 'Aiglentina Lambert', 'F'],\n",
       "       [9, 'TheodoreClavet@teleworm.us', 'Theodore Clavet', 'M'],\n",
       "       [10, 'ByronLefebvre@jourrapide.com', 'Byron Lefebvre', 'M'],\n",
       "       [11, 'FlorusDevoe@einrot.com', 'Florus Devoe', 'M'],\n",
       "       [12, 'NormandArsenault@armyspy.com', 'Normand Arsenault', 'M'],\n",
       "       [13, 'AcelineHughes@jourrapide.com', 'Aceline Hughes', 'F'],\n",
       "       [14, 'GastonBrisette@superrito.com', 'Gaston Brisette', 'M'],\n",
       "       [15, 'AgateGrandbois@gustr.com', 'Agate Grandbois', 'F'],\n",
       "       [16, 'AgricanFoucault@jourrapide.com', 'Agrican Foucault', 'M'],\n",
       "       [17, 'PrunellaJosseaume@armyspy.com', 'Prunella Josseaume', 'F'],\n",
       "       [18, 'YseultCharest@armyspy.com', 'Yseult Charest', 'F'],\n",
       "       [19, 'DorotheeAupry@cuvox.de', 'Dorothee Aupry', 'F'],\n",
       "       [20, 'AmauryReault@teleworm.us', 'Amaury Reault', 'M'],\n",
       "       [21, 'GillesBeauchamps@superrito.com', 'Gilles Beauchamps', 'M'],\n",
       "       [22, 'FranckDumont@gustr.com', 'Franck Dumont', 'M'],\n",
       "       [23, 'DelmareLHeureux@dayrep.com', 'Delmare L Heureux', 'F'],\n",
       "       [24, 'AlphonseCantin@cuvox.de', 'Alphonse Cantin', 'M'],\n",
       "       [25, 'BlondelleRochon@gustr.com', 'Blondelle Rochon', 'F'],\n",
       "       [26, 'SavilleBernard@armyspy.com', 'Saville Bernard', 'M'],\n",
       "       [27, 'AnnetteJolicoeur@armyspy.com', 'Annette Jolicoeur', 'F'],\n",
       "       [28, 'BradamateMichel@armyspy.com', 'Bradamate Michel', 'F'],\n",
       "       [29, 'HilaireFrappier@armyspy.com', 'Hilaire Frappier', 'F'],\n",
       "       [30, 'MarieBriard@gustr.com', 'Marie Briard', 'F'],\n",
       "       [31, 'MadeleineBatard@superrito.com', 'Madeleine Batard', 'F'],\n",
       "       [32, 'ArberGarcia@dayrep.com', 'Arber Garcia', 'M'],\n",
       "       [33, 'SaberViens@superrito.com', 'Saber Viens', 'M'],\n",
       "       [34, 'ArnaudDubois@rhyta.com', 'Arnaud Dubois', 'M'],\n",
       "       [35, 'PryorBeauchamp@dayrep.com', 'Pryor Beauchamp', 'M'],\n",
       "       [36, 'AlphonsePotvin@armyspy.com', 'Alphonse Potvin', 'M'],\n",
       "       [37, 'FitzLafontaine@dayrep.com', 'Fitz Lafontaine', 'M'],\n",
       "       [38, 'DelmareLamothe@gustr.com', 'Delmare Lamothe', 'F'],\n",
       "       [39, 'DaisiBoileau@jourrapide.com', 'Daisi Boileau', 'F'],\n",
       "       [40, 'SomerPaquette@jourrapide.com', 'Somer Paquette', 'M'],\n",
       "       [41, 'OlivieCourtemanche@armyspy.com', 'Olivie Courtemanche', 'F'],\n",
       "       [42, 'GermainHughes@teleworm.us', 'Germain Hughes', 'M'],\n",
       "       [43, 'MorganaBellemare@superrito.com', 'Morgana Bellemare', 'F'],\n",
       "       [44, 'MerciMorin@gustr.com', 'Merci Morin', 'F'],\n",
       "       [45, 'VerneyBedard@dayrep.com', 'Verney Bedard', 'M'],\n",
       "       [46, 'IgnaceAudibert@armyspy.com', 'Ignace Audibert', 'M'],\n",
       "       [47, 'FranckBinet@superrito.com', 'Franck Binet', 'M'],\n",
       "       [48, 'SumnerRocheleau@einrot.com', 'Sumner Rocheleau', 'M'],\n",
       "       [49, 'AubertPatel@armyspy.com', 'Aubert Patel', 'M'],\n",
       "       [50, 'SumnerLaprise@superrito.com', 'Sumner Laprise', 'M'],\n",
       "       [51, 'MadeleineLeveille@dayrep.com', 'Madeleine Leveille', 'F'],\n",
       "       [52, 'BelisardaGuedry@dayrep.com', 'Belisarda Guedry', 'F'],\n",
       "       [53, 'ZurieTheberge@gustr.com', 'Zurie Theberge', 'F'],\n",
       "       [54, 'ErmengardiBousquet@dayrep.com', 'Ermengardi Bousquet', 'F'],\n",
       "       [55, 'FlorenceBeaudoin@einrot.com', 'Florence Beaudoin', 'F'],\n",
       "       [56, 'LeoneCrete@armyspy.com', 'Leone Crete', 'F'],\n",
       "       [57, 'SearlaitCote@superrito.com', 'Searlait Cote', 'F'],\n",
       "       [58, 'AlphonsineBourassa@cuvox.de', 'Alphonsine Bourassa', 'F'],\n",
       "       [59, 'DidianeDAubigne@einrot.com', 'Didiane D Aubigne', 'F'],\n",
       "       [60, 'EdouardLacroix@cuvox.de', 'Edouard Lacroix', 'M'],\n",
       "       [61, 'OdeletteCharron@superrito.com', 'Odelette Charron', 'F'],\n",
       "       [62, 'AleronBerard@rhyta.com', 'Aleron Berard', 'M'],\n",
       "       [63, 'SylvieDuranseau@einrot.com', 'Sylvie Duranseau', 'F'],\n",
       "       [64, 'YvetteDAvis@cuvox.de', 'Yvette D Avis', 'F'],\n",
       "       [65, 'SolaineLecuyer@dayrep.com', 'Solaine Lecuyer', 'F'],\n",
       "       [66, 'CourtlandDavid@cuvox.de', 'Courtland David', 'M'],\n",
       "       [67, 'PatienceCharbonneau@jourrapide.com', 'Patience Charbonneau',\n",
       "        'F'],\n",
       "       [68, 'EmmanuelLanctot@cuvox.de', 'Emmanuel Lanctot', 'M'],\n",
       "       [69, 'MusetteProvencher@armyspy.com', 'Musette Provencher', 'F'],\n",
       "       [70, 'MorganaMarchesseault@teleworm.us', 'Morgana Marchesseault',\n",
       "        'F'],\n",
       "       [71, 'ViolletteArnoux@cuvox.de', 'Viollette Arnoux', 'F'],\n",
       "       [72, 'SlainieGregoire@cuvox.de', 'Slainie Gregoire', 'F'],\n",
       "       [73, 'GarlandLagueux@rhyta.com', 'Garland Lagueux', 'F'],\n",
       "       [74, 'FerragusGrimard@cuvox.de', 'Ferragus Grimard', 'M'],\n",
       "       [75, 'JeanTollmache@einrot.com', 'Jean Tollmache', 'M'],\n",
       "       [76, 'LanceParent@teleworm.us', 'Lance Parent', 'M'],\n",
       "       [77, 'CheneyChaloux@cuvox.de', 'Cheney Chaloux', 'M'],\n",
       "       [78, 'PierpontLamarre@superrito.com', 'Pierpont Lamarre', 'M'],\n",
       "       [79, 'ComforteQuerry@superrito.com', 'Comforte Querry', 'F'],\n",
       "       [80, 'NadineMasson@teleworm.us', 'Nadine Masson', 'F'],\n",
       "       [81, 'FranceLaderoute@jourrapide.com', 'France Laderoute', 'F'],\n",
       "       [82, 'LothairBonenfant@dayrep.com', 'Lothair Bonenfant', 'M'],\n",
       "       [83, 'OlivieNorbert@cuvox.de', 'Olivie Norbert', 'F'],\n",
       "       [84, 'SomerMarleau@cuvox.de', 'Somer Marleau', 'M'],\n",
       "       [85, 'AstridJolicoeur@superrito.com', 'Astrid Jolicoeur', 'F'],\n",
       "       [86, 'OlivierGaillard@superrito.com', 'Olivier Gaillard', 'M'],\n",
       "       [87, 'PhilipPinneau@teleworm.us', 'Philip Pinneau', 'M'],\n",
       "       [88, 'AlexisLagrange@gustr.com', 'Alexis Lagrange', 'M'],\n",
       "       [89, 'HeloiseGregoire@dayrep.com', 'Heloise Gregoire', 'F'],\n",
       "       [90, 'DexterDavid@fleckens.hu', 'Dexter David', 'M'],\n",
       "       [91, 'JacquesMethot@cuvox.de', 'Jacques Methot', 'M'],\n",
       "       [92, 'AnceloteDesforges@cuvox.de', 'Ancelote Desforges', 'F'],\n",
       "       [93, 'JulietteOuellet@rhyta.com', 'Juliette Ouellet', 'F'],\n",
       "       [94, 'AvrilSylvain@superrito.com', 'Avril Sylvain', 'F'],\n",
       "       [95, 'RachellePlaisance@armyspy.com', 'Rachelle Plaisance', 'F'],\n",
       "       [96, 'BenjaminLabrie@fleckens.hu', 'Benjamin Labrie', 'M'],\n",
       "       [97, 'LaureBondy@superrito.com', 'Laure Bondy', 'F'],\n",
       "       [98, 'NatalieLeveille@rhyta.com', 'Natalie Leveille', 'F'],\n",
       "       [99, 'SydneyGuibord@superrito.com', 'Sydney Guibord', 'F'],\n",
       "       [100, 'ZdenekVadnais@superrito.com', 'Zdenek Vadnais', 'M'],\n",
       "       [101, 'LoyalQuenneville@superrito.com', 'Loyal Quenneville', 'M'],\n",
       "       [102, 'ErnestTachel@cuvox.de', 'Ernest Tachel', 'M'],\n",
       "       [103, 'MatthieuPouchard@teleworm.us', 'Matthieu Pouchard', 'M'],\n",
       "       [104, 'SearlasArtois@rhyta.com', 'Searlas Artois', 'M'],\n",
       "       [105, 'ArnoLeBatelier@einrot.com', 'Arno Le Batelier', 'M'],\n",
       "       [106, 'EstellePoisson@jourrapide.com', 'Estelle Poisson', 'F'],\n",
       "       [107, 'HarcourtCharpentier@cuvox.de', 'Harcourt Charpentier', 'M'],\n",
       "       [108, 'CrescentLavallee@armyspy.com', 'Crescent Lavallee', 'F'],\n",
       "       [109, 'EugeniaVadeboncoeur@cuvox.de', 'Eugenia Vadeboncoeur', 'F'],\n",
       "       [110, 'GenevreLabrie@cuvox.de', 'Genevre Labrie', 'F'],\n",
       "       [111, 'NormandCote@dayrep.com', 'Normand Cote', 'M'],\n",
       "       [112, 'ZoeLeclair@gustr.com', 'Zoe Leclair', 'F'],\n",
       "       [113, 'PhillipaPerrault@einrot.com', 'Phillipa Perrault', 'F'],\n",
       "       [114, 'EliseDesrosiers@jourrapide.com', 'Elise Desrosiers', 'F'],\n",
       "       [115, 'RussellRochon@superrito.com', 'Russell Rochon', 'M'],\n",
       "       [116, 'BeldaLauzier@armyspy.com', 'Belda Lauzier', 'F'],\n",
       "       [117, 'AlphonsineSacre@einrot.com', 'Alphonsine Sacre', 'F'],\n",
       "       [118, 'AubineLabelle@cuvox.de', 'Aubine Labelle', 'F'],\n",
       "       [119, 'EmileVadnais@rhyta.com', 'Emile Vadnais', 'M'],\n",
       "       [120, 'ArienneCantin@superrito.com', 'Arienne Cantin', 'F'],\n",
       "       [121, 'JacquesMarcheterre@einrot.com', 'Jacques Marcheterre', 'M'],\n",
       "       [122, 'EliotDupuis@gustr.com', 'Eliot Dupuis', 'M'],\n",
       "       [123, 'ArthurPlante@jourrapide.com', 'Arthur Plante', 'M'],\n",
       "       [124, 'SacripantLabrie@armyspy.com', 'Sacripant Labrie', 'M'],\n",
       "       [125, 'SibylaLizotte@cuvox.de', 'Sibyla Lizotte', 'F'],\n",
       "       [126, 'ChristianLaberge@armyspy.com', 'Christian Laberge', 'M'],\n",
       "       [127, 'VickDavid@gustr.com', 'Vick David', 'M'],\n",
       "       [128, 'ComforteCloutier@einrot.com', 'Comforte Cloutier', 'F'],\n",
       "       [129, 'ClaudeGalarneau@armyspy.com', 'Claude Galarneau', 'M'],\n",
       "       [130, 'ElisePerrault@superrito.com', 'Elise Perrault', 'F'],\n",
       "       [131, 'LoringRocheleau@cuvox.de', 'Loring Rocheleau', 'M'],\n",
       "       [132, 'MathildeSansouci@superrito.com', 'Mathilde Sansouci', 'F'],\n",
       "       [133, 'AmaurySirois@superrito.com', 'Amaury Sirois', 'M'],\n",
       "       [134, 'ChristelleLandry@jourrapide.com', 'Christelle Landry', 'F'],\n",
       "       [135, 'AdelaideBrousse@gustr.com', 'Adelaide Brousse', 'F'],\n",
       "       [136, 'BriceFaure@einrot.com', 'Brice Faure', 'M'],\n",
       "       [137, 'AlaineHervieux@rhyta.com', 'Alaine Hervieux', 'F'],\n",
       "       [138, 'LanceCroteau@einrot.com', 'Lance Croteau', 'M'],\n",
       "       [139, 'AurelieBazinet@dayrep.com', 'Aurelie Bazinet', 'F'],\n",
       "       [140, 'AstolphoVeronneau@teleworm.us', 'Astolpho Veronneau', 'M'],\n",
       "       [141, 'JolieDeblois@armyspy.com', 'Jolie Deblois', 'F'],\n",
       "       [142, 'MireilleParenteau@superrito.com', 'Mireille Parenteau',\n",
       "        'F'],\n",
       "       [143, 'ToussaintBrodeur@rhyta.com', 'Toussaint Brodeur', 'M'],\n",
       "       [144, 'PorterSimard@armyspy.com', 'Porter Simard', 'M'],\n",
       "       [145, 'JeromedeLaunay@fleckens.hu', 'Jeromede Launay', 'M'],\n",
       "       [146, 'LowellPatel@rhyta.com', 'Lowell Patel', 'M'],\n",
       "       [147, 'GarlandMarcheterre@fleckens.hu', 'Garland Marcheterre',\n",
       "        'F'],\n",
       "       [148, 'OlivierAube@armyspy.com', 'Olivier Aube', 'M'],\n",
       "       [149, 'FrontinoBrian@einrot.com', 'Frontino Brian', 'M'],\n",
       "       [150, 'RochMireault@gustr.com', 'Roch Mireault', 'M'],\n",
       "       [151, 'NathalieCormier@cuvox.de', 'Nathalie Cormier', 'F'],\n",
       "       [152, 'VallisMainville@gustr.com', 'Vallis Mainville', 'M'],\n",
       "       [153, 'DanielleNeufville@teleworm.us', 'Danielle Neufville', 'F'],\n",
       "       [154, 'AllyrianeRacine@gustr.com', 'Allyriane Racine', 'F'],\n",
       "       [155, 'PierpontFlamand@fleckens.hu', 'Pierpont Flamand', 'M'],\n",
       "       [156, 'DanielHuot@rhyta.com', 'Daniel Huot', 'M'],\n",
       "       [157, 'HughPoisson@fleckens.hu', 'Hugh Poisson', 'M'],\n",
       "       [158, 'YoletteMoreau@dayrep.com', 'Yolette Moreau', 'F'],\n",
       "       [159, 'GasparReault@dayrep.com', 'Gaspar Reault', 'M'],\n",
       "       [160, 'DelitBisaillon@teleworm.us', 'Delit Bisaillon', 'F'],\n",
       "       [161, 'ManonDastous@armyspy.com', 'Manon Dastous', 'F'],\n",
       "       [162, 'LoyalFouquet@armyspy.com', 'Loyal Fouquet', 'M'],\n",
       "       [163, 'ApollineLaframboise@teleworm.us', 'Apolline Laframboise',\n",
       "        'F'],\n",
       "       [164, 'OrielMiron@jourrapide.com', 'Oriel Miron', 'F'],\n",
       "       [165, 'LianeLaGarde@cuvox.de', 'Liane La Garde', 'F'],\n",
       "       [166, 'AnastasieCroteau@rhyta.com', 'Anastasie Croteau', 'F'],\n",
       "       [167, 'VerneyCourse@armyspy.com', 'Verney Course', 'M'],\n",
       "       [168, 'VoletaAdler@armyspy.com', 'Voleta Adler', 'F'],\n",
       "       [169, 'PlattParent@jourrapide.com', 'Platt Parent', 'M'],\n",
       "       [170, 'BlondelleAilleboust@gustr.com', 'Blondelle Ailleboust',\n",
       "        'F'],\n",
       "       [171, 'AurelieDesnoyer@armyspy.com', 'Aurelie Desnoyer', 'F'],\n",
       "       [172, 'AvelaineGadbois@dayrep.com', 'Avelaine Gadbois', 'F'],\n",
       "       [173, 'BriceGrondin@fleckens.hu', 'Brice Grondin', 'M'],\n",
       "       [174, 'ZacharieDuplessis@rhyta.com', 'Zacharie Duplessis', 'M'],\n",
       "       [175, 'OgierGervais@gustr.com', 'Ogier Gervais', 'M'],\n",
       "       [176, 'FusbertaRancourt@rhyta.com', 'Fusberta Rancourt', 'F'],\n",
       "       [177, 'CamilleLaurent@superrito.com', 'Camille Laurent', 'F'],\n",
       "       [178, 'CeriseMontminy@dayrep.com', 'Cerise Montminy', 'F'],\n",
       "       [179, 'JosetteRiquier@armyspy.com', 'Josette Riquier', 'F'],\n",
       "       [180, 'AgnesBriard@cuvox.de', 'Agnes Briard', 'F'],\n",
       "       [181, 'AvrilRocheleau@fleckens.hu', 'Avril Rocheleau', 'F'],\n",
       "       [182, 'BenoitGauvin@teleworm.us', 'Benoit Gauvin', 'M'],\n",
       "       [183, 'HeloiseMarcil@fleckens.hu', 'Heloise Marcil', 'F'],\n",
       "       [184, 'RolandDupont@einrot.com', 'Roland Dupont', 'M'],\n",
       "       [185, 'SolaineLabrecque@fleckens.hu', 'Solaine Labrecque', 'F'],\n",
       "       [186, 'JulieBeauchemin@teleworm.us', 'Julie Beauchemin', 'F'],\n",
       "       [187, 'KarelDandonneau@dayrep.com', 'Karel Dandonneau', 'M'],\n",
       "       [188, 'PaienBeauchesne@rhyta.com', 'Paien Beauchesne', 'M'],\n",
       "       [189, 'AdeleClavette@cuvox.de', 'Adele Clavette', 'F'],\n",
       "       [190, 'LotyeJodion@fleckens.hu', 'Lotye Jodion', 'F'],\n",
       "       [191, 'AmaranteLacroix@fleckens.hu', 'Amarante Lacroix', 'F'],\n",
       "       [192, 'XarlesCaisse@jourrapide.com', 'Xarles Caisse', 'M'],\n",
       "       [193, 'LealaLemelin@dayrep.com', 'Leala Lemelin', 'F'],\n",
       "       [194, 'ChantalLamoureux@jourrapide.com', 'Chantal Lamoureux', 'F'],\n",
       "       [195, 'NinetteAdler@superrito.com', 'Ninette Adler', 'F'],\n",
       "       [196, 'EmmanuelleLabrie@einrot.com', 'Emmanuelle Labrie', 'F'],\n",
       "       [197, 'HuonDeLaRonde@rhyta.com', 'Huon De La Ronde', 'M'],\n",
       "       [198, 'SimoneSt-Pierre@jourrapide.com', 'Simone St- Pierre', 'F'],\n",
       "       [199, 'PeverellMazuret@dayrep.com', 'Peverell Mazuret', 'M'],\n",
       "       [200, 'LorrainePaulet@einrot.com', 'Lorraine Paulet', 'F'],\n",
       "       [201, 'DemiLazure@cuvox.de', 'Demi Lazure', 'F'],\n",
       "       [202, 'AgramantGrandpre@rhyta.com', 'Agramant Grandpre', 'M'],\n",
       "       [203, 'ClothildeBerie@teleworm.us', 'Clothilde Berie', 'F'],\n",
       "       [204, 'AimeMarseau@dayrep.com', 'Aime Marseau', 'M'],\n",
       "       [205, 'RogerDeLaRonde@gustr.com', 'Roger De La Ronde', 'M'],\n",
       "       [206, 'AiglentinaMarcheterre@superrito.com',\n",
       "        'Aiglentina Marcheterre', 'F'],\n",
       "       [207, 'NoemiLaisne@rhyta.com', 'Noemi Laisne', 'F'],\n",
       "       [208, 'DenisPatenaude@einrot.com', 'Denis Patenaude', 'M'],\n",
       "       [209, 'JulienBeriault@rhyta.com', 'Julien Beriault', 'M'],\n",
       "       [210, 'MartheQuerry@einrot.com', 'Marthe Querry', 'F'],\n",
       "       [211, 'ParfaitBedard@armyspy.com', 'Parfait Bedard', 'M'],\n",
       "       [212, 'MandelBarteaux@gustr.com', 'Mandel Barteaux', 'M'],\n",
       "       [213, 'PauletteLemaitre@fleckens.hu', 'Paulette Lemaitre', 'F'],\n",
       "       [214, 'YoletteLanoie@dayrep.com', 'Yolette Lanoie', 'F'],\n",
       "       [215, 'LucilleBaron@superrito.com', 'Lucille Baron', 'F'],\n",
       "       [216, 'ChappellSarrazin@rhyta.com', 'Chappell Sarrazin', 'M'],\n",
       "       [217, 'GanoHetu@fleckens.hu', 'Gano Hetu', 'M'],\n",
       "       [218, 'MinetteRoy@fleckens.hu', 'Minette Roy', 'F'],\n",
       "       [219, 'RoslynChalifour@cuvox.de', 'Roslyn Chalifour', 'M'],\n",
       "       [220, 'KarelBazinet@einrot.com', 'Karel Bazinet', 'M'],\n",
       "       [221, 'JosetteBordeleau@einrot.com', 'Josette Bordeleau', 'F'],\n",
       "       [222, 'LangleyCaron@armyspy.com', 'Langley Caron', 'M'],\n",
       "       [223, 'ClaudeDandonneau@jourrapide.com', 'Claude Dandonneau', 'F'],\n",
       "       [224, 'ApollineMichaud@superrito.com', 'Apolline Michaud', 'F'],\n",
       "       [225, 'PascalineBeaudry@rhyta.com', 'Pascaline Beaudry', 'F'],\n",
       "       [226, 'FleurCaouette@jourrapide.com', 'Fleur Caouette', 'F'],\n",
       "       [227, 'FrancisMasse@jourrapide.com', 'Francis Masse', 'M']],\n",
       "      dtype=object)"
      ]
     },
     "metadata": {},
     "output_type": "display_data"
    }
   ],
   "source": [
    "clients_array = data.values # dataframe to array\n",
    "display(clients_array)"
   ]
  },
  {
   "cell_type": "markdown",
   "metadata": {
    "id": "WvyZKaPKTJrr"
   },
   "source": [
    "## Manipulation des lignes et colonnes"
   ]
  },
  {
   "cell_type": "code",
   "execution_count": 5,
   "metadata": {
    "colab": {
     "base_uri": "https://localhost:8080/",
     "height": 241
    },
    "executionInfo": {
     "elapsed": 24,
     "status": "ok",
     "timestamp": 1759495089390,
     "user": {
      "displayName": "Damien Dessaux",
      "userId": "07698093102948239354"
     },
     "user_tz": -120
    },
    "id": "o6n1I1AfJMie",
    "outputId": "bbbc0d70-ccfa-44c1-f4ca-1ae3665332b4"
   },
   "outputs": [
    {
     "data": {
      "text/plain": [
       "0    LaurentDagenais@rhyta.com\n",
       "1        GuyMarois@fleckens.hu\n",
       "2    BeaufortLesage@einrot.com\n",
       "3    RussellDurand@armyspy.com\n",
       "4         AlexisRiel@rhyta.com\n",
       "Name: email, dtype: object"
      ]
     },
     "metadata": {},
     "output_type": "display_data"
    }
   ],
   "source": [
    "email = data['email'] # sélectionne la colonne 'email'\n",
    "# rmq : email n'est pas un dataframe mais une Series, ie une liste ne contenant qu'un seul type d'objet\n",
    "display(email.head())"
   ]
  },
  {
   "cell_type": "code",
   "execution_count": 6,
   "metadata": {
    "colab": {
     "base_uri": "https://localhost:8080/",
     "height": 206
    },
    "executionInfo": {
     "elapsed": 38,
     "status": "ok",
     "timestamp": 1759495089437,
     "user": {
      "displayName": "Damien Dessaux",
      "userId": "07698093102948239354"
     },
     "user_tz": -120
    },
    "id": "bnKvPqfDJSw_",
    "outputId": "178a24a5-bddf-456e-c7bd-c50856d7df6f"
   },
   "outputs": [
    {
     "data": {
      "text/html": [
       "<div>\n",
       "<style scoped>\n",
       "    .dataframe tbody tr th:only-of-type {\n",
       "        vertical-align: middle;\n",
       "    }\n",
       "\n",
       "    .dataframe tbody tr th {\n",
       "        vertical-align: top;\n",
       "    }\n",
       "\n",
       "    .dataframe thead th {\n",
       "        text-align: right;\n",
       "    }\n",
       "</style>\n",
       "<table border=\"1\" class=\"dataframe\">\n",
       "  <thead>\n",
       "    <tr style=\"text-align: right;\">\n",
       "      <th></th>\n",
       "      <th>nom</th>\n",
       "      <th>email</th>\n",
       "    </tr>\n",
       "  </thead>\n",
       "  <tbody>\n",
       "    <tr>\n",
       "      <th>0</th>\n",
       "      <td>Laurent Dagenais</td>\n",
       "      <td>LaurentDagenais@rhyta.com</td>\n",
       "    </tr>\n",
       "    <tr>\n",
       "      <th>1</th>\n",
       "      <td>Guy Marois</td>\n",
       "      <td>GuyMarois@fleckens.hu</td>\n",
       "    </tr>\n",
       "    <tr>\n",
       "      <th>2</th>\n",
       "      <td>Beaufort Lesage</td>\n",
       "      <td>BeaufortLesage@einrot.com</td>\n",
       "    </tr>\n",
       "    <tr>\n",
       "      <th>3</th>\n",
       "      <td>Russell Durand</td>\n",
       "      <td>RussellDurand@armyspy.com</td>\n",
       "    </tr>\n",
       "    <tr>\n",
       "      <th>4</th>\n",
       "      <td>Alexis Riel</td>\n",
       "      <td>AlexisRiel@rhyta.com</td>\n",
       "    </tr>\n",
       "  </tbody>\n",
       "</table>\n",
       "</div>"
      ],
      "text/plain": [
       "                nom                      email\n",
       "0  Laurent Dagenais  LaurentDagenais@rhyta.com\n",
       "1        Guy Marois      GuyMarois@fleckens.hu\n",
       "2   Beaufort Lesage  BeaufortLesage@einrot.com\n",
       "3    Russell Durand  RussellDurand@armyspy.com\n",
       "4       Alexis Riel       AlexisRiel@rhyta.com"
      ]
     },
     "metadata": {},
     "output_type": "display_data"
    }
   ],
   "source": [
    "extraction = data[['nom','email']] # sélectionne les colonnes 'nom' et 'email' /!\\ Mettre les champs des colonnes dans une liste !\n",
    "display(extraction.head())"
   ]
  },
  {
   "cell_type": "code",
   "execution_count": 7,
   "metadata": {
    "colab": {
     "base_uri": "https://localhost:8080/",
     "height": 241
    },
    "executionInfo": {
     "elapsed": 12,
     "status": "ok",
     "timestamp": 1759495089456,
     "user": {
      "displayName": "Damien Dessaux",
      "userId": "07698093102948239354"
     },
     "user_tz": -120
    },
    "id": "n1ofK9pGJ3So",
    "outputId": "7bbe230c-9497-4142-dd7e-b2f6b47e9692"
   },
   "outputs": [
    {
     "data": {
      "text/plain": [
       "0    225\n",
       "1    674\n",
       "2    589\n",
       "3    792\n",
       "4    488\n",
       "Name: identifiant, dtype: int32"
      ]
     },
     "metadata": {},
     "output_type": "display_data"
    }
   ],
   "source": [
    "data['identifiant'] = data['identifiant']*100\n",
    "data['identifiant'] = 1 # remplace les valeurs de la colonne 'identifiant' par 1\n",
    "data['identifiant'] = np.random.randint(1, 1000, data.shape[0]) # remplace les valeurs de la colonne 'identifiant' par un nombre aléatoire entre 1 et 1000\n",
    "display(data['identifiant'].head())"
   ]
  },
  {
   "cell_type": "code",
   "execution_count": 8,
   "metadata": {
    "colab": {
     "base_uri": "https://localhost:8080/",
     "height": 206
    },
    "executionInfo": {
     "elapsed": 34,
     "status": "ok",
     "timestamp": 1759495089496,
     "user": {
      "displayName": "Damien Dessaux",
      "userId": "07698093102948239354"
     },
     "user_tz": -120
    },
    "id": "BnY6DwMUONv0",
    "outputId": "f7462490-d965-4a6a-958f-f2502c4e204a"
   },
   "outputs": [
    {
     "data": {
      "text/html": [
       "<div>\n",
       "<style scoped>\n",
       "    .dataframe tbody tr th:only-of-type {\n",
       "        vertical-align: middle;\n",
       "    }\n",
       "\n",
       "    .dataframe tbody tr th {\n",
       "        vertical-align: top;\n",
       "    }\n",
       "\n",
       "    .dataframe thead th {\n",
       "        text-align: right;\n",
       "    }\n",
       "</style>\n",
       "<table border=\"1\" class=\"dataframe\">\n",
       "  <thead>\n",
       "    <tr style=\"text-align: right;\">\n",
       "      <th></th>\n",
       "      <th>identifiant</th>\n",
       "      <th>email</th>\n",
       "      <th>nom</th>\n",
       "      <th>genre</th>\n",
       "      <th>id</th>\n",
       "    </tr>\n",
       "  </thead>\n",
       "  <tbody>\n",
       "    <tr>\n",
       "      <th>223</th>\n",
       "      <td>806</td>\n",
       "      <td>ClaudeDandonneau@jourrapide.com</td>\n",
       "      <td>Claude Dandonneau</td>\n",
       "      <td>F</td>\n",
       "      <td>2806</td>\n",
       "    </tr>\n",
       "    <tr>\n",
       "      <th>224</th>\n",
       "      <td>585</td>\n",
       "      <td>ApollineMichaud@superrito.com</td>\n",
       "      <td>Apolline Michaud</td>\n",
       "      <td>F</td>\n",
       "      <td>2585</td>\n",
       "    </tr>\n",
       "    <tr>\n",
       "      <th>225</th>\n",
       "      <td>870</td>\n",
       "      <td>PascalineBeaudry@rhyta.com</td>\n",
       "      <td>Pascaline Beaudry</td>\n",
       "      <td>F</td>\n",
       "      <td>2870</td>\n",
       "    </tr>\n",
       "    <tr>\n",
       "      <th>226</th>\n",
       "      <td>806</td>\n",
       "      <td>FleurCaouette@jourrapide.com</td>\n",
       "      <td>Fleur Caouette</td>\n",
       "      <td>F</td>\n",
       "      <td>2806</td>\n",
       "    </tr>\n",
       "    <tr>\n",
       "      <th>227</th>\n",
       "      <td>740</td>\n",
       "      <td>FrancisMasse@jourrapide.com</td>\n",
       "      <td>Francis Masse</td>\n",
       "      <td>M</td>\n",
       "      <td>1740</td>\n",
       "    </tr>\n",
       "  </tbody>\n",
       "</table>\n",
       "</div>"
      ],
      "text/plain": [
       "     identifiant                            email                nom genre  \\\n",
       "223          806  ClaudeDandonneau@jourrapide.com  Claude Dandonneau     F   \n",
       "224          585    ApollineMichaud@superrito.com   Apolline Michaud     F   \n",
       "225          870       PascalineBeaudry@rhyta.com  Pascaline Beaudry     F   \n",
       "226          806     FleurCaouette@jourrapide.com     Fleur Caouette     F   \n",
       "227          740      FrancisMasse@jourrapide.com      Francis Masse     M   \n",
       "\n",
       "       id  \n",
       "223  2806  \n",
       "224  2585  \n",
       "225  2870  \n",
       "226  2806  \n",
       "227  1740  "
      ]
     },
     "metadata": {},
     "output_type": "display_data"
    }
   ],
   "source": [
    "data['id'] = data['identifiant'] + [1_000 if genre == 'M' else 2_000 for genre in data['genre']]\n",
    "display(data.tail())"
   ]
  },
  {
   "cell_type": "code",
   "execution_count": 9,
   "metadata": {
    "colab": {
     "base_uri": "https://localhost:8080/",
     "height": 206
    },
    "executionInfo": {
     "elapsed": 8,
     "status": "ok",
     "timestamp": 1759495089507,
     "user": {
      "displayName": "Damien Dessaux",
      "userId": "07698093102948239354"
     },
     "user_tz": -120
    },
    "id": "0kHuVifYQOyf",
    "outputId": "b402a0f7-d794-4024-9d99-88cb7d9676ea"
   },
   "outputs": [
    {
     "data": {
      "text/html": [
       "<div>\n",
       "<style scoped>\n",
       "    .dataframe tbody tr th:only-of-type {\n",
       "        vertical-align: middle;\n",
       "    }\n",
       "\n",
       "    .dataframe tbody tr th {\n",
       "        vertical-align: top;\n",
       "    }\n",
       "\n",
       "    .dataframe thead th {\n",
       "        text-align: right;\n",
       "    }\n",
       "</style>\n",
       "<table border=\"1\" class=\"dataframe\">\n",
       "  <thead>\n",
       "    <tr style=\"text-align: right;\">\n",
       "      <th></th>\n",
       "      <th>identifiant</th>\n",
       "      <th>email</th>\n",
       "      <th>nom</th>\n",
       "      <th>genre</th>\n",
       "    </tr>\n",
       "  </thead>\n",
       "  <tbody>\n",
       "    <tr>\n",
       "      <th>0</th>\n",
       "      <td>225</td>\n",
       "      <td>LaurentDagenais@rhyta.com</td>\n",
       "      <td>Laurent Dagenais</td>\n",
       "      <td>M</td>\n",
       "    </tr>\n",
       "    <tr>\n",
       "      <th>1</th>\n",
       "      <td>674</td>\n",
       "      <td>GuyMarois@fleckens.hu</td>\n",
       "      <td>Guy Marois</td>\n",
       "      <td>M</td>\n",
       "    </tr>\n",
       "    <tr>\n",
       "      <th>2</th>\n",
       "      <td>589</td>\n",
       "      <td>BeaufortLesage@einrot.com</td>\n",
       "      <td>Beaufort Lesage</td>\n",
       "      <td>M</td>\n",
       "    </tr>\n",
       "    <tr>\n",
       "      <th>3</th>\n",
       "      <td>792</td>\n",
       "      <td>RussellDurand@armyspy.com</td>\n",
       "      <td>Russell Durand</td>\n",
       "      <td>M</td>\n",
       "    </tr>\n",
       "    <tr>\n",
       "      <th>4</th>\n",
       "      <td>488</td>\n",
       "      <td>AlexisRiel@rhyta.com</td>\n",
       "      <td>Alexis Riel</td>\n",
       "      <td>M</td>\n",
       "    </tr>\n",
       "  </tbody>\n",
       "</table>\n",
       "</div>"
      ],
      "text/plain": [
       "   identifiant                      email               nom genre\n",
       "0          225  LaurentDagenais@rhyta.com  Laurent Dagenais     M\n",
       "1          674      GuyMarois@fleckens.hu        Guy Marois     M\n",
       "2          589  BeaufortLesage@einrot.com   Beaufort Lesage     M\n",
       "3          792  RussellDurand@armyspy.com    Russell Durand     M\n",
       "4          488       AlexisRiel@rhyta.com       Alexis Riel     M"
      ]
     },
     "execution_count": 9,
     "metadata": {},
     "output_type": "execute_result"
    }
   ],
   "source": [
    "data.pop('id') # supprime la colonne 'id'\n",
    "# data.drop(columns='id') renvoye un dataframe sans la colonne 'id' mais ne modifie pas le dataframe directement\n",
    "data.head()"
   ]
  },
  {
   "cell_type": "code",
   "execution_count": 10,
   "metadata": {
    "colab": {
     "base_uri": "https://localhost:8080/",
     "height": 206
    },
    "executionInfo": {
     "elapsed": 32,
     "status": "ok",
     "timestamp": 1759495089544,
     "user": {
      "displayName": "Damien Dessaux",
      "userId": "07698093102948239354"
     },
     "user_tz": -120
    },
    "id": "Kmt-N7elROfy",
    "outputId": "ab5be402-c183-4779-861a-7406ce49516e"
   },
   "outputs": [
    {
     "data": {
      "text/html": [
       "<div>\n",
       "<style scoped>\n",
       "    .dataframe tbody tr th:only-of-type {\n",
       "        vertical-align: middle;\n",
       "    }\n",
       "\n",
       "    .dataframe tbody tr th {\n",
       "        vertical-align: top;\n",
       "    }\n",
       "\n",
       "    .dataframe thead th {\n",
       "        text-align: right;\n",
       "    }\n",
       "</style>\n",
       "<table border=\"1\" class=\"dataframe\">\n",
       "  <thead>\n",
       "    <tr style=\"text-align: right;\">\n",
       "      <th></th>\n",
       "      <th>id</th>\n",
       "      <th>mail</th>\n",
       "      <th>nom</th>\n",
       "      <th>genre</th>\n",
       "    </tr>\n",
       "  </thead>\n",
       "  <tbody>\n",
       "    <tr>\n",
       "      <th>0</th>\n",
       "      <td>225</td>\n",
       "      <td>LaurentDagenais@rhyta.com</td>\n",
       "      <td>Laurent Dagenais</td>\n",
       "      <td>M</td>\n",
       "    </tr>\n",
       "    <tr>\n",
       "      <th>1</th>\n",
       "      <td>674</td>\n",
       "      <td>GuyMarois@fleckens.hu</td>\n",
       "      <td>Guy Marois</td>\n",
       "      <td>M</td>\n",
       "    </tr>\n",
       "    <tr>\n",
       "      <th>2</th>\n",
       "      <td>589</td>\n",
       "      <td>BeaufortLesage@einrot.com</td>\n",
       "      <td>Beaufort Lesage</td>\n",
       "      <td>M</td>\n",
       "    </tr>\n",
       "    <tr>\n",
       "      <th>3</th>\n",
       "      <td>792</td>\n",
       "      <td>RussellDurand@armyspy.com</td>\n",
       "      <td>Russell Durand</td>\n",
       "      <td>M</td>\n",
       "    </tr>\n",
       "    <tr>\n",
       "      <th>4</th>\n",
       "      <td>488</td>\n",
       "      <td>AlexisRiel@rhyta.com</td>\n",
       "      <td>Alexis Riel</td>\n",
       "      <td>M</td>\n",
       "    </tr>\n",
       "  </tbody>\n",
       "</table>\n",
       "</div>"
      ],
      "text/plain": [
       "    id                       mail               nom genre\n",
       "0  225  LaurentDagenais@rhyta.com  Laurent Dagenais     M\n",
       "1  674      GuyMarois@fleckens.hu        Guy Marois     M\n",
       "2  589  BeaufortLesage@einrot.com   Beaufort Lesage     M\n",
       "3  792  RussellDurand@armyspy.com    Russell Durand     M\n",
       "4  488       AlexisRiel@rhyta.com       Alexis Riel     M"
      ]
     },
     "metadata": {},
     "output_type": "display_data"
    }
   ],
   "source": [
    "data.rename(columns={'identifiant': 'id', 'email': 'mail'}, inplace=True) # renome des colonnes\n",
    "# /!\\ L'argument inplace=True permet de modifier le dataframe sinon la méthode rename renvoie un dataframe avec les modification\n",
    "display(data.head())"
   ]
  },
  {
   "cell_type": "code",
   "execution_count": 11,
   "metadata": {
    "colab": {
     "base_uri": "https://localhost:8080/"
    },
    "executionInfo": {
     "elapsed": 41,
     "status": "ok",
     "timestamp": 1759495089590,
     "user": {
      "displayName": "Damien Dessaux",
      "userId": "07698093102948239354"
     },
     "user_tz": -120
    },
    "id": "VmONsSbiRzZN",
    "outputId": "6c46d0b3-01dd-41be-a531-7f830bd43ad8"
   },
   "outputs": [
    {
     "name": "stdout",
     "output_type": "stream",
     "text": [
      "id       float64\n",
      "mail      object\n",
      "nom       object\n",
      "genre     object\n",
      "dtype: object\n"
     ]
    }
   ],
   "source": [
    "data['id'] = data['id'].astype(float) # Changer le type d'une colonne\n",
    "print(data.dtypes)"
   ]
  },
  {
   "cell_type": "code",
   "execution_count": 12,
   "metadata": {
    "colab": {
     "base_uri": "https://localhost:8080/",
     "height": 395
    },
    "executionInfo": {
     "elapsed": 12,
     "status": "ok",
     "timestamp": 1759495089610,
     "user": {
      "displayName": "Damien Dessaux",
      "userId": "07698093102948239354"
     },
     "user_tz": -120
    },
    "id": "tWH98lsWSVku",
    "outputId": "2981a73a-6039-4fff-b8fe-4f9e24b0a58d"
   },
   "outputs": [
    {
     "data": {
      "text/html": [
       "<div>\n",
       "<style scoped>\n",
       "    .dataframe tbody tr th:only-of-type {\n",
       "        vertical-align: middle;\n",
       "    }\n",
       "\n",
       "    .dataframe tbody tr th {\n",
       "        vertical-align: top;\n",
       "    }\n",
       "\n",
       "    .dataframe thead th {\n",
       "        text-align: right;\n",
       "    }\n",
       "</style>\n",
       "<table border=\"1\" class=\"dataframe\">\n",
       "  <thead>\n",
       "    <tr style=\"text-align: right;\">\n",
       "      <th></th>\n",
       "      <th>id</th>\n",
       "      <th>mail</th>\n",
       "      <th>nom</th>\n",
       "      <th>genre</th>\n",
       "    </tr>\n",
       "  </thead>\n",
       "  <tbody>\n",
       "    <tr>\n",
       "      <th>188</th>\n",
       "      <td>992.0</td>\n",
       "      <td>PaienBeauchesne@rhyta.com</td>\n",
       "      <td>Paien Beauchesne</td>\n",
       "      <td>M</td>\n",
       "    </tr>\n",
       "    <tr>\n",
       "      <th>121</th>\n",
       "      <td>978.0</td>\n",
       "      <td>JacquesMarcheterre@einrot.com</td>\n",
       "      <td>Jacques Marcheterre</td>\n",
       "      <td>M</td>\n",
       "    </tr>\n",
       "    <tr>\n",
       "      <th>18</th>\n",
       "      <td>977.0</td>\n",
       "      <td>YseultCharest@armyspy.com</td>\n",
       "      <td>Yseult Charest</td>\n",
       "      <td>F</td>\n",
       "    </tr>\n",
       "    <tr>\n",
       "      <th>35</th>\n",
       "      <td>975.0</td>\n",
       "      <td>PryorBeauchamp@dayrep.com</td>\n",
       "      <td>Pryor Beauchamp</td>\n",
       "      <td>M</td>\n",
       "    </tr>\n",
       "    <tr>\n",
       "      <th>161</th>\n",
       "      <td>974.0</td>\n",
       "      <td>ManonDastous@armyspy.com</td>\n",
       "      <td>Manon Dastous</td>\n",
       "      <td>F</td>\n",
       "    </tr>\n",
       "  </tbody>\n",
       "</table>\n",
       "</div>"
      ],
      "text/plain": [
       "        id                           mail                  nom genre\n",
       "188  992.0      PaienBeauchesne@rhyta.com     Paien Beauchesne     M\n",
       "121  978.0  JacquesMarcheterre@einrot.com  Jacques Marcheterre     M\n",
       "18   977.0      YseultCharest@armyspy.com       Yseult Charest     F\n",
       "35   975.0      PryorBeauchamp@dayrep.com      Pryor Beauchamp     M\n",
       "161  974.0       ManonDastous@armyspy.com        Manon Dastous     F"
      ]
     },
     "metadata": {},
     "output_type": "display_data"
    },
    {
     "data": {
      "text/html": [
       "<div>\n",
       "<style scoped>\n",
       "    .dataframe tbody tr th:only-of-type {\n",
       "        vertical-align: middle;\n",
       "    }\n",
       "\n",
       "    .dataframe tbody tr th {\n",
       "        vertical-align: top;\n",
       "    }\n",
       "\n",
       "    .dataframe thead th {\n",
       "        text-align: right;\n",
       "    }\n",
       "</style>\n",
       "<table border=\"1\" class=\"dataframe\">\n",
       "  <thead>\n",
       "    <tr style=\"text-align: right;\">\n",
       "      <th></th>\n",
       "      <th>id</th>\n",
       "      <th>mail</th>\n",
       "      <th>nom</th>\n",
       "      <th>genre</th>\n",
       "    </tr>\n",
       "  </thead>\n",
       "  <tbody>\n",
       "    <tr>\n",
       "      <th>53</th>\n",
       "      <td>629.0</td>\n",
       "      <td>ZurieTheberge@gustr.com</td>\n",
       "      <td>Zurie Theberge</td>\n",
       "      <td>F</td>\n",
       "    </tr>\n",
       "    <tr>\n",
       "      <th>112</th>\n",
       "      <td>552.0</td>\n",
       "      <td>ZoeLeclair@gustr.com</td>\n",
       "      <td>Zoe Leclair</td>\n",
       "      <td>F</td>\n",
       "    </tr>\n",
       "    <tr>\n",
       "      <th>64</th>\n",
       "      <td>184.0</td>\n",
       "      <td>YvetteDAvis@cuvox.de</td>\n",
       "      <td>Yvette D Avis</td>\n",
       "      <td>F</td>\n",
       "    </tr>\n",
       "    <tr>\n",
       "      <th>18</th>\n",
       "      <td>977.0</td>\n",
       "      <td>YseultCharest@armyspy.com</td>\n",
       "      <td>Yseult Charest</td>\n",
       "      <td>F</td>\n",
       "    </tr>\n",
       "    <tr>\n",
       "      <th>158</th>\n",
       "      <td>849.0</td>\n",
       "      <td>YoletteMoreau@dayrep.com</td>\n",
       "      <td>Yolette Moreau</td>\n",
       "      <td>F</td>\n",
       "    </tr>\n",
       "  </tbody>\n",
       "</table>\n",
       "</div>"
      ],
      "text/plain": [
       "        id                       mail             nom genre\n",
       "53   629.0    ZurieTheberge@gustr.com  Zurie Theberge     F\n",
       "112  552.0       ZoeLeclair@gustr.com     Zoe Leclair     F\n",
       "64   184.0       YvetteDAvis@cuvox.de   Yvette D Avis     F\n",
       "18   977.0  YseultCharest@armyspy.com  Yseult Charest     F\n",
       "158  849.0   YoletteMoreau@dayrep.com  Yolette Moreau     F"
      ]
     },
     "metadata": {},
     "output_type": "display_data"
    }
   ],
   "source": [
    "data = data.sort_values('id', ascending = False)\n",
    "display(data.head())\n",
    "data = data.sort_values(['genre', 'nom'], ascending=[True, False])\n",
    "display(data.head())"
   ]
  },
  {
   "cell_type": "markdown",
   "metadata": {
    "id": "FfamrJm8S9yK"
   },
   "source": [
    "## Filtre"
   ]
  },
  {
   "cell_type": "code",
   "execution_count": 13,
   "metadata": {
    "colab": {
     "base_uri": "https://localhost:8080/",
     "height": 575
    },
    "executionInfo": {
     "elapsed": 14,
     "status": "ok",
     "timestamp": 1759495089630,
     "user": {
      "displayName": "Damien Dessaux",
      "userId": "07698093102948239354"
     },
     "user_tz": -120
    },
    "id": "FqoJIM0tVmJb",
    "outputId": "8ba947ba-dd9e-4889-ea3b-89dd5bd41d9c"
   },
   "outputs": [
    {
     "data": {
      "text/plain": [
       "'Zurie Theberge'"
      ]
     },
     "metadata": {},
     "output_type": "display_data"
    },
    {
     "data": {
      "text/plain": [
       "53     Zurie Theberge\n",
       "112       Zoe Leclair\n",
       "64      Yvette D Avis\n",
       "Name: nom, dtype: object"
      ]
     },
     "metadata": {},
     "output_type": "display_data"
    },
    {
     "data": {
      "text/html": [
       "<div>\n",
       "<style scoped>\n",
       "    .dataframe tbody tr th:only-of-type {\n",
       "        vertical-align: middle;\n",
       "    }\n",
       "\n",
       "    .dataframe tbody tr th {\n",
       "        vertical-align: top;\n",
       "    }\n",
       "\n",
       "    .dataframe thead th {\n",
       "        text-align: right;\n",
       "    }\n",
       "</style>\n",
       "<table border=\"1\" class=\"dataframe\">\n",
       "  <thead>\n",
       "    <tr style=\"text-align: right;\">\n",
       "      <th></th>\n",
       "      <th>id</th>\n",
       "      <th>mail</th>\n",
       "      <th>nom</th>\n",
       "      <th>genre</th>\n",
       "    </tr>\n",
       "  </thead>\n",
       "  <tbody>\n",
       "    <tr>\n",
       "      <th>53</th>\n",
       "      <td>629.0</td>\n",
       "      <td>ZurieTheberge@gustr.com</td>\n",
       "      <td>Zurie Theberge</td>\n",
       "      <td>F</td>\n",
       "    </tr>\n",
       "    <tr>\n",
       "      <th>112</th>\n",
       "      <td>552.0</td>\n",
       "      <td>ZoeLeclair@gustr.com</td>\n",
       "      <td>Zoe Leclair</td>\n",
       "      <td>F</td>\n",
       "    </tr>\n",
       "    <tr>\n",
       "      <th>64</th>\n",
       "      <td>184.0</td>\n",
       "      <td>YvetteDAvis@cuvox.de</td>\n",
       "      <td>Yvette D Avis</td>\n",
       "      <td>F</td>\n",
       "    </tr>\n",
       "  </tbody>\n",
       "</table>\n",
       "</div>"
      ],
      "text/plain": [
       "        id                     mail             nom genre\n",
       "53   629.0  ZurieTheberge@gustr.com  Zurie Theberge     F\n",
       "112  552.0     ZoeLeclair@gustr.com     Zoe Leclair     F\n",
       "64   184.0     YvetteDAvis@cuvox.de   Yvette D Avis     F"
      ]
     },
     "metadata": {},
     "output_type": "display_data"
    },
    {
     "data": {
      "text/html": [
       "<div>\n",
       "<style scoped>\n",
       "    .dataframe tbody tr th:only-of-type {\n",
       "        vertical-align: middle;\n",
       "    }\n",
       "\n",
       "    .dataframe tbody tr th {\n",
       "        vertical-align: top;\n",
       "    }\n",
       "\n",
       "    .dataframe thead th {\n",
       "        text-align: right;\n",
       "    }\n",
       "</style>\n",
       "<table border=\"1\" class=\"dataframe\">\n",
       "  <thead>\n",
       "    <tr style=\"text-align: right;\">\n",
       "      <th></th>\n",
       "      <th>mail</th>\n",
       "      <th>nom</th>\n",
       "    </tr>\n",
       "  </thead>\n",
       "  <tbody>\n",
       "    <tr>\n",
       "      <th>112</th>\n",
       "      <td>ZoeLeclair@gustr.com</td>\n",
       "      <td>Zoe Leclair</td>\n",
       "    </tr>\n",
       "    <tr>\n",
       "      <th>64</th>\n",
       "      <td>YvetteDAvis@cuvox.de</td>\n",
       "      <td>Yvette D Avis</td>\n",
       "    </tr>\n",
       "    <tr>\n",
       "      <th>18</th>\n",
       "      <td>YseultCharest@armyspy.com</td>\n",
       "      <td>Yseult Charest</td>\n",
       "    </tr>\n",
       "  </tbody>\n",
       "</table>\n",
       "</div>"
      ],
      "text/plain": [
       "                          mail             nom\n",
       "112       ZoeLeclair@gustr.com     Zoe Leclair\n",
       "64        YvetteDAvis@cuvox.de   Yvette D Avis\n",
       "18   YseultCharest@armyspy.com  Yseult Charest"
      ]
     },
     "metadata": {},
     "output_type": "display_data"
    },
    {
     "data": {
      "text/html": [
       "<div>\n",
       "<style scoped>\n",
       "    .dataframe tbody tr th:only-of-type {\n",
       "        vertical-align: middle;\n",
       "    }\n",
       "\n",
       "    .dataframe tbody tr th {\n",
       "        vertical-align: top;\n",
       "    }\n",
       "\n",
       "    .dataframe thead th {\n",
       "        text-align: right;\n",
       "    }\n",
       "</style>\n",
       "<table border=\"1\" class=\"dataframe\">\n",
       "  <thead>\n",
       "    <tr style=\"text-align: right;\">\n",
       "      <th></th>\n",
       "      <th>mail</th>\n",
       "      <th>genre</th>\n",
       "    </tr>\n",
       "  </thead>\n",
       "  <tbody>\n",
       "    <tr>\n",
       "      <th>16</th>\n",
       "      <td>AgricanFoucault@jourrapide.com</td>\n",
       "      <td>M</td>\n",
       "    </tr>\n",
       "    <tr>\n",
       "      <th>7</th>\n",
       "      <td>AgramantPepin@dayrep.com</td>\n",
       "      <td>M</td>\n",
       "    </tr>\n",
       "    <tr>\n",
       "      <th>202</th>\n",
       "      <td>AgramantGrandpre@rhyta.com</td>\n",
       "      <td>M</td>\n",
       "    </tr>\n",
       "  </tbody>\n",
       "</table>\n",
       "</div>"
      ],
      "text/plain": [
       "                               mail genre\n",
       "16   AgricanFoucault@jourrapide.com     M\n",
       "7          AgramantPepin@dayrep.com     M\n",
       "202      AgramantGrandpre@rhyta.com     M"
      ]
     },
     "metadata": {},
     "output_type": "display_data"
    }
   ],
   "source": [
    "display(data.iloc[0,2]) # affiche la valeur de la ligne 0 et de la colonne 2\n",
    "display(data.iloc[:3, 2]) # affiche la valeur de la colonne 2 des 3 premiers clients\n",
    "display(data.iloc[:3, :]) # affiche toutes les colonnes des 3 premières lignes\n",
    "display(data.iloc[1:4, 1:3]) # affiche les colonnes 1 à 3 exclus des lignes 1 à 4 exclus\n",
    "display(data.iloc[-3:, [1, 3]]) # affiche les colonnes 1 et 3 des 3 dernières lignes"
   ]
  },
  {
   "cell_type": "code",
   "execution_count": 14,
   "metadata": {
    "colab": {
     "base_uri": "https://localhost:8080/",
     "height": 557
    },
    "executionInfo": {
     "elapsed": 31,
     "status": "ok",
     "timestamp": 1759495089690,
     "user": {
      "displayName": "Damien Dessaux",
      "userId": "07698093102948239354"
     },
     "user_tz": -120
    },
    "id": "5USqTTbIFhpg",
    "outputId": "666ec8b1-cd8c-46e2-df6e-ee5c33d99d7a"
   },
   "outputs": [
    {
     "data": {
      "text/plain": [
       "53     629.0\n",
       "112    552.0\n",
       "64     184.0\n",
       "Name: id, dtype: float64"
      ]
     },
     "metadata": {},
     "output_type": "display_data"
    },
    {
     "data": {
      "text/html": [
       "<div>\n",
       "<style scoped>\n",
       "    .dataframe tbody tr th:only-of-type {\n",
       "        vertical-align: middle;\n",
       "    }\n",
       "\n",
       "    .dataframe tbody tr th {\n",
       "        vertical-align: top;\n",
       "    }\n",
       "\n",
       "    .dataframe thead th {\n",
       "        text-align: right;\n",
       "    }\n",
       "</style>\n",
       "<table border=\"1\" class=\"dataframe\">\n",
       "  <thead>\n",
       "    <tr style=\"text-align: right;\">\n",
       "      <th></th>\n",
       "      <th>id</th>\n",
       "      <th>nom</th>\n",
       "    </tr>\n",
       "  </thead>\n",
       "  <tbody>\n",
       "    <tr>\n",
       "      <th>53</th>\n",
       "      <td>629.0</td>\n",
       "      <td>Zurie Theberge</td>\n",
       "    </tr>\n",
       "    <tr>\n",
       "      <th>112</th>\n",
       "      <td>552.0</td>\n",
       "      <td>Zoe Leclair</td>\n",
       "    </tr>\n",
       "    <tr>\n",
       "      <th>64</th>\n",
       "      <td>184.0</td>\n",
       "      <td>Yvette D Avis</td>\n",
       "    </tr>\n",
       "  </tbody>\n",
       "</table>\n",
       "</div>"
      ],
      "text/plain": [
       "        id             nom\n",
       "53   629.0  Zurie Theberge\n",
       "112  552.0     Zoe Leclair\n",
       "64   184.0   Yvette D Avis"
      ]
     },
     "metadata": {},
     "output_type": "display_data"
    },
    {
     "data": {
      "text/html": [
       "<div>\n",
       "<style scoped>\n",
       "    .dataframe tbody tr th:only-of-type {\n",
       "        vertical-align: middle;\n",
       "    }\n",
       "\n",
       "    .dataframe tbody tr th {\n",
       "        vertical-align: top;\n",
       "    }\n",
       "\n",
       "    .dataframe thead th {\n",
       "        text-align: right;\n",
       "    }\n",
       "</style>\n",
       "<table border=\"1\" class=\"dataframe\">\n",
       "  <thead>\n",
       "    <tr style=\"text-align: right;\">\n",
       "      <th></th>\n",
       "      <th>id</th>\n",
       "      <th>mail</th>\n",
       "      <th>nom</th>\n",
       "      <th>genre</th>\n",
       "    </tr>\n",
       "  </thead>\n",
       "  <tbody>\n",
       "    <tr>\n",
       "      <th>53</th>\n",
       "      <td>629.0</td>\n",
       "      <td>ZurieTheberge@gustr.com</td>\n",
       "      <td>Zurie Theberge</td>\n",
       "      <td>F</td>\n",
       "    </tr>\n",
       "    <tr>\n",
       "      <th>112</th>\n",
       "      <td>552.0</td>\n",
       "      <td>ZoeLeclair@gustr.com</td>\n",
       "      <td>Zoe Leclair</td>\n",
       "      <td>F</td>\n",
       "    </tr>\n",
       "    <tr>\n",
       "      <th>64</th>\n",
       "      <td>184.0</td>\n",
       "      <td>YvetteDAvis@cuvox.de</td>\n",
       "      <td>Yvette D Avis</td>\n",
       "      <td>F</td>\n",
       "    </tr>\n",
       "  </tbody>\n",
       "</table>\n",
       "</div>"
      ],
      "text/plain": [
       "        id                     mail             nom genre\n",
       "53   629.0  ZurieTheberge@gustr.com  Zurie Theberge     F\n",
       "112  552.0     ZoeLeclair@gustr.com     Zoe Leclair     F\n",
       "64   184.0     YvetteDAvis@cuvox.de   Yvette D Avis     F"
      ]
     },
     "metadata": {},
     "output_type": "display_data"
    },
    {
     "data": {
      "text/html": [
       "<div>\n",
       "<style scoped>\n",
       "    .dataframe tbody tr th:only-of-type {\n",
       "        vertical-align: middle;\n",
       "    }\n",
       "\n",
       "    .dataframe tbody tr th {\n",
       "        vertical-align: top;\n",
       "    }\n",
       "\n",
       "    .dataframe thead th {\n",
       "        text-align: right;\n",
       "    }\n",
       "</style>\n",
       "<table border=\"1\" class=\"dataframe\">\n",
       "  <thead>\n",
       "    <tr style=\"text-align: right;\">\n",
       "      <th></th>\n",
       "      <th>id</th>\n",
       "      <th>genre</th>\n",
       "      <th>nom</th>\n",
       "    </tr>\n",
       "  </thead>\n",
       "  <tbody>\n",
       "    <tr>\n",
       "      <th>192</th>\n",
       "      <td>830.0</td>\n",
       "      <td>M</td>\n",
       "      <td>Xarles Caisse</td>\n",
       "    </tr>\n",
       "    <tr>\n",
       "      <th>167</th>\n",
       "      <td>798.0</td>\n",
       "      <td>M</td>\n",
       "      <td>Verney Course</td>\n",
       "    </tr>\n",
       "    <tr>\n",
       "      <th>152</th>\n",
       "      <td>632.0</td>\n",
       "      <td>M</td>\n",
       "      <td>Vallis Mainville</td>\n",
       "    </tr>\n",
       "  </tbody>\n",
       "</table>\n",
       "</div>"
      ],
      "text/plain": [
       "        id genre               nom\n",
       "192  830.0     M     Xarles Caisse\n",
       "167  798.0     M     Verney Course\n",
       "152  632.0     M  Vallis Mainville"
      ]
     },
     "metadata": {},
     "output_type": "display_data"
    }
   ],
   "source": [
    "display((data.loc[:, 'id']).head(3)) # sélectionne une colonne\n",
    "display((data.loc[:, ['id', 'nom']]).head(3)) # sélectionne plusieurs colonnes\n",
    "display((data.loc[data['genre'] == 'F', :]).head(3)) # sélectionne toutes les colonnes et filtre par genre\n",
    "display((data.loc[(data['genre'] == 'M') & (data['id'] >= 500), ['id', 'genre', 'nom']]).head(3)) # sélectionne des colonnes et filtre par genre et id"
   ]
  },
  {
   "cell_type": "code",
   "execution_count": 15,
   "metadata": {
    "colab": {
     "base_uri": "https://localhost:8080/",
     "height": 374
    },
    "executionInfo": {
     "elapsed": 17,
     "status": "ok",
     "timestamp": 1759495089700,
     "user": {
      "displayName": "Damien Dessaux",
      "userId": "07698093102948239354"
     },
     "user_tz": -120
    },
    "id": "gCqZgCraIuH-",
    "outputId": "11d125b1-e89f-4966-ac25-6d9a94367774"
   },
   "outputs": [
    {
     "data": {
      "text/html": [
       "<div>\n",
       "<style scoped>\n",
       "    .dataframe tbody tr th:only-of-type {\n",
       "        vertical-align: middle;\n",
       "    }\n",
       "\n",
       "    .dataframe tbody tr th {\n",
       "        vertical-align: top;\n",
       "    }\n",
       "\n",
       "    .dataframe thead th {\n",
       "        text-align: right;\n",
       "    }\n",
       "</style>\n",
       "<table border=\"1\" class=\"dataframe\">\n",
       "  <thead>\n",
       "    <tr style=\"text-align: right;\">\n",
       "      <th></th>\n",
       "      <th>id</th>\n",
       "      <th>mail</th>\n",
       "      <th>nom</th>\n",
       "      <th>genre</th>\n",
       "    </tr>\n",
       "  </thead>\n",
       "  <tbody>\n",
       "    <tr>\n",
       "      <th>0</th>\n",
       "      <td>225.0</td>\n",
       "      <td>LaurentDagenais@rhyta.com</td>\n",
       "      <td>Laurent Dagenais</td>\n",
       "      <td>M</td>\n",
       "    </tr>\n",
       "    <tr>\n",
       "      <th>222</th>\n",
       "      <td>884.0</td>\n",
       "      <td>LangleyCaron@armyspy.com</td>\n",
       "      <td>Langley Caron</td>\n",
       "      <td>M</td>\n",
       "    </tr>\n",
       "    <tr>\n",
       "      <th>76</th>\n",
       "      <td>953.0</td>\n",
       "      <td>LanceParent@teleworm.us</td>\n",
       "      <td>Lance Parent</td>\n",
       "      <td>M</td>\n",
       "    </tr>\n",
       "  </tbody>\n",
       "</table>\n",
       "</div>"
      ],
      "text/plain": [
       "        id                       mail               nom genre\n",
       "0    225.0  LaurentDagenais@rhyta.com  Laurent Dagenais     M\n",
       "222  884.0   LangleyCaron@armyspy.com     Langley Caron     M\n",
       "76   953.0    LanceParent@teleworm.us      Lance Parent     M"
      ]
     },
     "metadata": {},
     "output_type": "display_data"
    },
    {
     "data": {
      "text/html": [
       "<div>\n",
       "<style scoped>\n",
       "    .dataframe tbody tr th:only-of-type {\n",
       "        vertical-align: middle;\n",
       "    }\n",
       "\n",
       "    .dataframe tbody tr th {\n",
       "        vertical-align: top;\n",
       "    }\n",
       "\n",
       "    .dataframe thead th {\n",
       "        text-align: right;\n",
       "    }\n",
       "</style>\n",
       "<table border=\"1\" class=\"dataframe\">\n",
       "  <thead>\n",
       "    <tr style=\"text-align: right;\">\n",
       "      <th></th>\n",
       "      <th>id</th>\n",
       "      <th>mail</th>\n",
       "      <th>nom</th>\n",
       "      <th>genre</th>\n",
       "    </tr>\n",
       "  </thead>\n",
       "  <tbody>\n",
       "    <tr>\n",
       "      <th>53</th>\n",
       "      <td>629.0</td>\n",
       "      <td>ZurieTheberge@gustr.com</td>\n",
       "      <td>Zurie Theberge</td>\n",
       "      <td>F</td>\n",
       "    </tr>\n",
       "    <tr>\n",
       "      <th>112</th>\n",
       "      <td>552.0</td>\n",
       "      <td>ZoeLeclair@gustr.com</td>\n",
       "      <td>Zoe Leclair</td>\n",
       "      <td>F</td>\n",
       "    </tr>\n",
       "    <tr>\n",
       "      <th>64</th>\n",
       "      <td>184.0</td>\n",
       "      <td>YvetteDAvis@cuvox.de</td>\n",
       "      <td>Yvette D Avis</td>\n",
       "      <td>F</td>\n",
       "    </tr>\n",
       "  </tbody>\n",
       "</table>\n",
       "</div>"
      ],
      "text/plain": [
       "        id                     mail             nom genre\n",
       "53   629.0  ZurieTheberge@gustr.com  Zurie Theberge     F\n",
       "112  552.0     ZoeLeclair@gustr.com     Zoe Leclair     F\n",
       "64   184.0     YvetteDAvis@cuvox.de   Yvette D Avis     F"
      ]
     },
     "metadata": {},
     "output_type": "display_data"
    },
    {
     "data": {
      "text/plain": [
       "Index([ 53, 112,  64,  18, 158, 214, 168,  71,  63,  99,\n",
       "       ...\n",
       "        20,  36,  24,   4,  88,  62, 204,  16,   7, 202],\n",
       "      dtype='int64', length=228)"
      ]
     },
     "metadata": {},
     "output_type": "display_data"
    },
    {
     "name": "stdout",
     "output_type": "stream",
     "text": [
      "Reset index :\n"
     ]
    },
    {
     "data": {
      "text/plain": [
       "RangeIndex(start=0, stop=228, step=1)"
      ]
     },
     "metadata": {},
     "output_type": "display_data"
    }
   ],
   "source": [
    "display(data.loc[0:76, :]) # sélection des lignes d'INDEX 0 à 76 (les lignes d'index 0, 22 et 76 qui sont consécutives dans la base)\n",
    "display(data.iloc[0:3, :]) # sélection des lignes d'INDICE 0 à 3 (les 3 premières lignes)\n",
    "display(data.index) # Affiche la liste des index\n",
    "data_reset_index = data.reset_index() # affecte l'indice à l'index\n",
    "print(\"Reset index :\")\n",
    "display(data_reset_index.index)"
   ]
  },
  {
   "cell_type": "code",
   "execution_count": null,
   "metadata": {
    "executionInfo": {
     "elapsed": 45,
     "status": "ok",
     "timestamp": 1759495089748,
     "user": {
      "displayName": "Damien Dessaux",
      "userId": "07698093102948239354"
     },
     "user_tz": -120
    },
    "id": "JFTcn1FVJl2f"
   },
   "outputs": [],
   "source": []
  },
  {
   "cell_type": "markdown",
   "metadata": {
    "id": "P4ruNu8yTY-s"
   },
   "source": [
    "## Agrégation"
   ]
  },
  {
   "cell_type": "code",
   "execution_count": 16,
   "metadata": {
    "colab": {
     "base_uri": "https://localhost:8080/",
     "height": 808
    },
    "executionInfo": {
     "elapsed": 51,
     "status": "ok",
     "timestamp": 1759495089760,
     "user": {
      "displayName": "Damien Dessaux",
      "userId": "07698093102948239354"
     },
     "user_tz": -120
    },
    "id": "myv6Z67gTcnF",
    "outputId": "713b1253-0f3b-46f4-df0d-196d41252151"
   },
   "outputs": [
    {
     "data": {
      "text/plain": [
       "genre\n",
       "F    500.932203\n",
       "M    497.618182\n",
       "Name: id, dtype: float64"
      ]
     },
     "metadata": {},
     "output_type": "display_data"
    },
    {
     "data": {
      "text/plain": [
       "genre  nom               \n",
       "F      Aceline Hughes        268.0\n",
       "       Adelaide Brousse      475.0\n",
       "       Adele Clavette        406.0\n",
       "       Agate Grandbois       925.0\n",
       "       Agnes Briard          615.0\n",
       "                             ...  \n",
       "M      Verney Course         798.0\n",
       "       Vick David            180.0\n",
       "       Xarles Caisse         830.0\n",
       "       Zacharie Duplessis    348.0\n",
       "       Zdenek Vadnais        476.0\n",
       "Name: id, Length: 228, dtype: float64"
      ]
     },
     "metadata": {},
     "output_type": "display_data"
    },
    {
     "data": {
      "text/html": [
       "<div>\n",
       "<style scoped>\n",
       "    .dataframe tbody tr th:only-of-type {\n",
       "        vertical-align: middle;\n",
       "    }\n",
       "\n",
       "    .dataframe tbody tr th {\n",
       "        vertical-align: top;\n",
       "    }\n",
       "\n",
       "    .dataframe thead tr th {\n",
       "        text-align: left;\n",
       "    }\n",
       "\n",
       "    .dataframe thead tr:last-of-type th {\n",
       "        text-align: right;\n",
       "    }\n",
       "</style>\n",
       "<table border=\"1\" class=\"dataframe\">\n",
       "  <thead>\n",
       "    <tr>\n",
       "      <th></th>\n",
       "      <th colspan=\"2\" halign=\"left\">id</th>\n",
       "    </tr>\n",
       "    <tr>\n",
       "      <th></th>\n",
       "      <th>sum</th>\n",
       "      <th>mean</th>\n",
       "    </tr>\n",
       "    <tr>\n",
       "      <th>genre</th>\n",
       "      <th></th>\n",
       "      <th></th>\n",
       "    </tr>\n",
       "  </thead>\n",
       "  <tbody>\n",
       "    <tr>\n",
       "      <th>F</th>\n",
       "      <td>59110.0</td>\n",
       "      <td>500.932203</td>\n",
       "    </tr>\n",
       "    <tr>\n",
       "      <th>M</th>\n",
       "      <td>54738.0</td>\n",
       "      <td>497.618182</td>\n",
       "    </tr>\n",
       "  </tbody>\n",
       "</table>\n",
       "</div>"
      ],
      "text/plain": [
       "            id            \n",
       "           sum        mean\n",
       "genre                     \n",
       "F      59110.0  500.932203\n",
       "M      54738.0  497.618182"
      ]
     },
     "metadata": {},
     "output_type": "display_data"
    }
   ],
   "source": [
    "display(data.groupby('genre')['id'].mean()) # groupe par 'genre' et calcul la moyenne des 'id'\n",
    "display(data.groupby(['genre', 'nom'])['id'].sum()) # groupe par 'genre' et 'nom' et calcul la somme des 'id'\n",
    "display(data.groupby('genre').agg({'id': ['sum', 'mean']})) # groupe par 'genre' et calcul la somme et la moyenne des 'id'"
   ]
  },
  {
   "cell_type": "code",
   "execution_count": 17,
   "metadata": {
    "colab": {
     "base_uri": "https://localhost:8080/",
     "height": 301
    },
    "executionInfo": {
     "elapsed": 16,
     "status": "ok",
     "timestamp": 1759495089770,
     "user": {
      "displayName": "Damien Dessaux",
      "userId": "07698093102948239354"
     },
     "user_tz": -120
    },
    "id": "JhMGBhyUXQYd",
    "outputId": "137ae835-eebe-419f-c603-60ecc6482d60"
   },
   "outputs": [
    {
     "data": {
      "text/html": [
       "<div>\n",
       "<style scoped>\n",
       "    .dataframe tbody tr th:only-of-type {\n",
       "        vertical-align: middle;\n",
       "    }\n",
       "\n",
       "    .dataframe tbody tr th {\n",
       "        vertical-align: top;\n",
       "    }\n",
       "\n",
       "    .dataframe thead th {\n",
       "        text-align: right;\n",
       "    }\n",
       "</style>\n",
       "<table border=\"1\" class=\"dataframe\">\n",
       "  <thead>\n",
       "    <tr style=\"text-align: right;\">\n",
       "      <th>genre</th>\n",
       "      <th>F</th>\n",
       "      <th>M</th>\n",
       "    </tr>\n",
       "    <tr>\n",
       "      <th>nom</th>\n",
       "      <th></th>\n",
       "      <th></th>\n",
       "    </tr>\n",
       "  </thead>\n",
       "  <tbody>\n",
       "    <tr>\n",
       "      <th>Aceline Hughes</th>\n",
       "      <td>268.0</td>\n",
       "      <td>NaN</td>\n",
       "    </tr>\n",
       "    <tr>\n",
       "      <th>Adelaide Brousse</th>\n",
       "      <td>475.0</td>\n",
       "      <td>NaN</td>\n",
       "    </tr>\n",
       "    <tr>\n",
       "      <th>Adele Clavette</th>\n",
       "      <td>406.0</td>\n",
       "      <td>NaN</td>\n",
       "    </tr>\n",
       "  </tbody>\n",
       "</table>\n",
       "</div>"
      ],
      "text/plain": [
       "genre                 F   M\n",
       "nom                        \n",
       "Aceline Hughes    268.0 NaN\n",
       "Adelaide Brousse  475.0 NaN\n",
       "Adele Clavette    406.0 NaN"
      ]
     },
     "metadata": {},
     "output_type": "display_data"
    },
    {
     "data": {
      "text/html": [
       "<div>\n",
       "<style scoped>\n",
       "    .dataframe tbody tr th:only-of-type {\n",
       "        vertical-align: middle;\n",
       "    }\n",
       "\n",
       "    .dataframe tbody tr th {\n",
       "        vertical-align: top;\n",
       "    }\n",
       "\n",
       "    .dataframe thead th {\n",
       "        text-align: right;\n",
       "    }\n",
       "</style>\n",
       "<table border=\"1\" class=\"dataframe\">\n",
       "  <thead>\n",
       "    <tr style=\"text-align: right;\">\n",
       "      <th>genre</th>\n",
       "      <th>nom</th>\n",
       "      <th>F</th>\n",
       "      <th>M</th>\n",
       "    </tr>\n",
       "  </thead>\n",
       "  <tbody>\n",
       "    <tr>\n",
       "      <th>0</th>\n",
       "      <td>Aceline Hughes</td>\n",
       "      <td>268.0</td>\n",
       "      <td>NaN</td>\n",
       "    </tr>\n",
       "    <tr>\n",
       "      <th>1</th>\n",
       "      <td>Adelaide Brousse</td>\n",
       "      <td>475.0</td>\n",
       "      <td>NaN</td>\n",
       "    </tr>\n",
       "    <tr>\n",
       "      <th>2</th>\n",
       "      <td>Adele Clavette</td>\n",
       "      <td>406.0</td>\n",
       "      <td>NaN</td>\n",
       "    </tr>\n",
       "  </tbody>\n",
       "</table>\n",
       "</div>"
      ],
      "text/plain": [
       "genre               nom      F   M\n",
       "0        Aceline Hughes  268.0 NaN\n",
       "1      Adelaide Brousse  475.0 NaN\n",
       "2        Adele Clavette  406.0 NaN"
      ]
     },
     "metadata": {},
     "output_type": "display_data"
    }
   ],
   "source": [
    "tab_double_entrees = data.pivot_table(index='nom', columns='genre', values='id', aggfunc='sum') # créer un tableau à double entrées\n",
    "# la fonction d'aggrégation peut aussi être une fonction personnellement implémentée ou encore np.mean\n",
    "display(tab_double_entrees.head(3))\n",
    "tab_double_entrees.reset_index(inplace=True) # index deviennent les indices\n",
    "display(tab_double_entrees.head(3))"
   ]
  },
  {
   "cell_type": "code",
   "execution_count": 18,
   "metadata": {
    "colab": {
     "base_uri": "https://localhost:8080/",
     "height": 143
    },
    "executionInfo": {
     "elapsed": 12,
     "status": "ok",
     "timestamp": 1759495089784,
     "user": {
      "displayName": "Damien Dessaux",
      "userId": "07698093102948239354"
     },
     "user_tz": -120
    },
    "id": "ZW5xJSzDZidp",
    "outputId": "c3baa0d9-63df-4b8e-c441-8494ba2f6fa9"
   },
   "outputs": [
    {
     "data": {
      "text/html": [
       "<div>\n",
       "<style scoped>\n",
       "    .dataframe tbody tr th:only-of-type {\n",
       "        vertical-align: middle;\n",
       "    }\n",
       "\n",
       "    .dataframe tbody tr th {\n",
       "        vertical-align: top;\n",
       "    }\n",
       "\n",
       "    .dataframe thead th {\n",
       "        text-align: right;\n",
       "    }\n",
       "</style>\n",
       "<table border=\"1\" class=\"dataframe\">\n",
       "  <thead>\n",
       "    <tr style=\"text-align: right;\">\n",
       "      <th>genre</th>\n",
       "      <th>nom</th>\n",
       "      <th>F</th>\n",
       "      <th>M</th>\n",
       "    </tr>\n",
       "  </thead>\n",
       "  <tbody>\n",
       "    <tr>\n",
       "      <th>0</th>\n",
       "      <td>Aceline Hughes</td>\n",
       "      <td>268.0</td>\n",
       "      <td>NaN</td>\n",
       "    </tr>\n",
       "    <tr>\n",
       "      <th>1</th>\n",
       "      <td>Adelaide Brousse</td>\n",
       "      <td>475.0</td>\n",
       "      <td>NaN</td>\n",
       "    </tr>\n",
       "    <tr>\n",
       "      <th>2</th>\n",
       "      <td>Adele Clavette</td>\n",
       "      <td>406.0</td>\n",
       "      <td>NaN</td>\n",
       "    </tr>\n",
       "  </tbody>\n",
       "</table>\n",
       "</div>"
      ],
      "text/plain": [
       "genre               nom      F   M\n",
       "0        Aceline Hughes  268.0 NaN\n",
       "1      Adelaide Brousse  475.0 NaN\n",
       "2        Adele Clavette  406.0 NaN"
      ]
     },
     "metadata": {},
     "output_type": "display_data"
    }
   ],
   "source": [
    "tab_double_entrees.melt(id_vars='nom', value_vars=('F', 'M')) # transforme un tableau double entrées en tableau linéaire\n",
    "display(tab_double_entrees.head(3))"
   ]
  },
  {
   "cell_type": "markdown",
   "metadata": {
    "id": "eFkQB2X5gVnq"
   },
   "source": [
    "## Jointure"
   ]
  },
  {
   "cell_type": "code",
   "execution_count": 19,
   "metadata": {
    "executionInfo": {
     "elapsed": 5,
     "status": "ok",
     "timestamp": 1759495089794,
     "user": {
      "displayName": "Damien Dessaux",
      "userId": "07698093102948239354"
     },
     "user_tz": -120
    },
    "id": "XFtZNDR3gZ6y"
   },
   "outputs": [],
   "source": [
    "# pd.merge(A,B) jointure naturelle (ie les clés ont le même nom) des dataframe A et B\n",
    "# A.merge(B) méthode jointure\n",
    "# pd.merge(A,B,on='id') pour préciser le nom de la clé commune\n",
    "# pd.merge(A,B,left_on='id',right_on='identifiant') si clés n'ont pas le même nom\n",
    "# pb.merge(A,B,how='inner') l'argument how précise le type de jointure\n",
    "# 'inner' -> interne A inter B (par dédaut)\n",
    "# 'left' -> A union (A inter B)\n",
    "# 'right' -> B union (A inter B)\n",
    "# 'outer' -> externe A union B"
   ]
  },
  {
   "cell_type": "markdown",
   "metadata": {
    "id": "L68pqRZt4WdN"
   },
   "source": [
    "## Concaténation"
   ]
  },
  {
   "cell_type": "code",
   "execution_count": 20,
   "metadata": {
    "executionInfo": {
     "elapsed": 6,
     "status": "ok",
     "timestamp": 1759495089806,
     "user": {
      "displayName": "Damien Dessaux",
      "userId": "07698093102948239354"
     },
     "user_tz": -120
    },
    "id": "mKPCnmqs4Y2n"
   },
   "outputs": [],
   "source": [
    "# pd.concat([df1, df2], ignore_index=True) Pour concaténer deux dataframes.\n",
    "# rmq : l'argument 'ignore_index=True' permet de réindexer le dataframe formé des dataframes df1 et df2, sans cet argument les index seraient en doublon"
   ]
  }
 ],
 "metadata": {
  "colab": {
   "authorship_tag": "ABX9TyNGfvL6jmbwwlIxLsNYpdw1",
   "provenance": []
  },
  "kernelspec": {
   "display_name": "Python 3 (ipykernel)",
   "language": "python",
   "name": "python3"
  },
  "language_info": {
   "codemirror_mode": {
    "name": "ipython",
    "version": 3
   },
   "file_extension": ".py",
   "mimetype": "text/x-python",
   "name": "python",
   "nbconvert_exporter": "python",
   "pygments_lexer": "ipython3",
   "version": "3.13.7"
  }
 },
 "nbformat": 4,
 "nbformat_minor": 4
}
